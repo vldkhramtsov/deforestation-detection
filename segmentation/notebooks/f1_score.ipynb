{
 "cells": [
  {
   "cell_type": "code",
   "execution_count": 445,
   "metadata": {},
   "outputs": [],
   "source": [
    "import geopandas as gpd\n",
    "import numpy as np\n",
    "from shapely.ops import cascaded_union\n",
    "from shapely.geometry import Polygon"
   ]
  },
  {
   "cell_type": "code",
   "execution_count": 446,
   "metadata": {},
   "outputs": [],
   "source": [
    "def get_boundaries(geo_dataframe):\n",
    "    sum_coords = []\n",
    "    for num, row in geo_dataframe.iterrows():\n",
    "        sum_coords.extend(list(row['geometry'].exterior.coords))\n",
    "    base_bound = Polygon(sum_coords).bounds\n",
    "    return Polygon(\n",
    "            [(base_bound[0], base_bound[1]),\n",
    "             (base_bound[0], base_bound[3]),\n",
    "             (base_bound[2], base_bound[3]),\n",
    "             (base_bound[2], base_bound[1])\n",
    "             ])"
   ]
  },
  {
   "cell_type": "code",
   "execution_count": 447,
   "metadata": {},
   "outputs": [],
   "source": [
    "predicted_path = \"../../test_data/fpn50_all_seasons_summer_prediction/predicted_20160830_5d7942fb-0181-49c0-8b2c-73a8becff569_rgb.geojson\"\n",
    "pred_poly = gpd.read_file(predicted_path)"
   ]
  },
  {
   "cell_type": "code",
   "execution_count": 448,
   "metadata": {},
   "outputs": [],
   "source": [
    "prediction_boundary = get_boundaries(pred_poly)"
   ]
  },
  {
   "cell_type": "code",
   "execution_count": 449,
   "metadata": {},
   "outputs": [
    {
     "data": {
      "text/plain": [
       "{'init': 'epsg:32636'}"
      ]
     },
     "execution_count": 449,
     "metadata": {},
     "output_type": "execute_result"
    }
   ],
   "source": [
    "pred_poly.crs"
   ]
  },
  {
   "cell_type": "code",
   "execution_count": 450,
   "metadata": {},
   "outputs": [],
   "source": [
    "gt_path = \"../../test_data/markup/clearcuts_backup_2016-08-30/clearcuts_backup_2016-08-30.shp\"\n",
    "gt_poly = gpd.read_file(gt_path)"
   ]
  },
  {
   "cell_type": "code",
   "execution_count": 451,
   "metadata": {},
   "outputs": [],
   "source": [
    "gt_poly = gt_poly.to_crs(pred_poly.crs)"
   ]
  },
  {
   "cell_type": "code",
   "execution_count": 452,
   "metadata": {},
   "outputs": [],
   "source": [
    "gt_boundary = get_boundaries(gt_poly)"
   ]
  },
  {
   "cell_type": "code",
   "execution_count": null,
   "metadata": {},
   "outputs": [],
   "source": []
  },
  {
   "cell_type": "code",
   "execution_count": 453,
   "metadata": {},
   "outputs": [],
   "source": [
    "intersection_boundary = prediction_boundary.intersection(gt_boundary)"
   ]
  },
  {
   "cell_type": "code",
   "execution_count": 454,
   "metadata": {},
   "outputs": [
    {
     "data": {
      "text/plain": [
       "(array('d', [699960.0, 699960.0, 809680.0, 809680.0, 699960.0]),\n",
       " array('d', [5490250.0, 5600040.0, 5600040.0, 5490250.0, 5490250.0]))"
      ]
     },
     "execution_count": 454,
     "metadata": {},
     "output_type": "execute_result"
    }
   ],
   "source": [
    "prediction_boundary.exterior.coords.xy"
   ]
  },
  {
   "cell_type": "code",
   "execution_count": 455,
   "metadata": {},
   "outputs": [
    {
     "data": {
      "text/plain": [
       "(array('d', [694094.771067144, 694094.771067144, 786340.2430196176, 786340.2430196176, 694094.771067144]),\n",
       " array('d', [5480966.664022381, 5583006.450541735, 5583006.450541735, 5480966.664022381, 5480966.664022381]))"
      ]
     },
     "execution_count": 455,
     "metadata": {},
     "output_type": "execute_result"
    }
   ],
   "source": [
    "gt_boundary.exterior.coords.xy"
   ]
  },
  {
   "cell_type": "code",
   "execution_count": 456,
   "metadata": {},
   "outputs": [
    {
     "data": {
      "text/plain": [
       "(array('d', [699960.0, 699960.0, 786340.2430196176, 786340.2430196176, 699960.0]),\n",
       " array('d', [5490250.0, 5583006.450541735, 5583006.450541735, 5490250.0, 5490250.0]))"
      ]
     },
     "execution_count": 456,
     "metadata": {},
     "output_type": "execute_result"
    }
   ],
   "source": [
    "intersection_boundary.exterior.coords.xy"
   ]
  },
  {
   "cell_type": "code",
   "execution_count": 457,
   "metadata": {},
   "outputs": [
    {
     "data": {
      "image/svg+xml": [
       "<svg xmlns=\"http://www.w3.org/2000/svg\" xmlns:xlink=\"http://www.w3.org/1999/xlink\" width=\"300\" height=\"300\" viewBox=\"690013.1796063698 5476885.072561608 100408.654874022 110202.96944090072\" preserveAspectRatio=\"xMinYMin meet\"><g transform=\"matrix(1,0,0,-1,0,11063973.114564117)\"><path fill-rule=\"evenodd\" fill=\"#66cc99\" stroke=\"#555555\" stroke-width=\"734.6864629393382\" opacity=\"0.6\" d=\"M 694094.771067144,5480966.664022381 L 694094.771067144,5583006.450541735 L 786340.2430196176,5583006.450541735 L 786340.2430196176,5480966.664022381 L 694094.771067144,5480966.664022381 z\" /></g></svg>"
      ],
      "text/plain": [
       "<shapely.geometry.polygon.Polygon at 0x7f6566a2d320>"
      ]
     },
     "execution_count": 457,
     "metadata": {},
     "output_type": "execute_result"
    }
   ],
   "source": [
    "gt_boundary"
   ]
  },
  {
   "cell_type": "code",
   "execution_count": 458,
   "metadata": {},
   "outputs": [
    {
     "data": {
      "image/svg+xml": [
       "<svg xmlns=\"http://www.w3.org/2000/svg\" xmlns:xlink=\"http://www.w3.org/1999/xlink\" width=\"300\" height=\"300\" viewBox=\"695568.4 5485858.4 118503.19999999995 118573.19999999925\" preserveAspectRatio=\"xMinYMin meet\"><g transform=\"matrix(1,0,0,-1,0,11090290.0)\"><path fill-rule=\"evenodd\" fill=\"#66cc99\" stroke=\"#555555\" stroke-width=\"790.487999999995\" opacity=\"0.6\" d=\"M 699960.0,5490250.0 L 699960.0,5600040.0 L 809680.0,5600040.0 L 809680.0,5490250.0 L 699960.0,5490250.0 z\" /></g></svg>"
      ],
      "text/plain": [
       "<shapely.geometry.polygon.Polygon at 0x7f6567a8fb38>"
      ]
     },
     "execution_count": 458,
     "metadata": {},
     "output_type": "execute_result"
    }
   ],
   "source": [
    "prediction_boundary"
   ]
  },
  {
   "cell_type": "code",
   "execution_count": 459,
   "metadata": {},
   "outputs": [
    {
     "data": {
      "image/svg+xml": [
       "<svg xmlns=\"http://www.w3.org/2000/svg\" xmlns:xlink=\"http://www.w3.org/1999/xlink\" width=\"300\" height=\"300\" viewBox=\"696249.7419783307 5486539.741978331 93800.75906295632 100176.96658507362\" preserveAspectRatio=\"xMinYMin meet\"><g transform=\"matrix(1,0,0,-1,0,11073256.450541735)\"><path fill-rule=\"evenodd\" fill=\"#66cc99\" stroke=\"#555555\" stroke-width=\"667.8464439004908\" opacity=\"0.6\" d=\"M 699960.0,5490250.0 L 699960.0,5583006.450541735 L 786340.2430196176,5583006.450541735 L 786340.2430196176,5490250.0 L 699960.0,5490250.0 z\" /></g></svg>"
      ],
      "text/plain": [
       "<shapely.geometry.polygon.Polygon at 0x7f6566a2df60>"
      ]
     },
     "execution_count": 459,
     "metadata": {},
     "output_type": "execute_result"
    }
   ],
   "source": [
    "intersection_boundary"
   ]
  },
  {
   "cell_type": "code",
   "execution_count": 460,
   "metadata": {},
   "outputs": [],
   "source": [
    "united_poly = gpd.GeoDataFrame(geometry=[intersection_boundary])"
   ]
  },
  {
   "cell_type": "code",
   "execution_count": 461,
   "metadata": {},
   "outputs": [],
   "source": [
    "gt_for_f1 = gt_poly[gt_poly.intersects(intersection_boundary)]"
   ]
  },
  {
   "cell_type": "code",
   "execution_count": 462,
   "metadata": {},
   "outputs": [],
   "source": [
    "pred_for_f1 = pred_poly[pred_poly.intersects(intersection_boundary)]"
   ]
  },
  {
   "cell_type": "code",
   "execution_count": 463,
   "metadata": {},
   "outputs": [],
   "source": [
    "import fiona\n",
    "from shapely.geometry import shape"
   ]
  },
  {
   "cell_type": "code",
   "execution_count": 464,
   "metadata": {},
   "outputs": [],
   "source": [
    "shp_collection = fiona.open(gt_path)\n",
    "# shp_geom = []\n",
    "for i in shp_collection:\n",
    "    i['geometry']\n",
    "#     shp_geom.append(crds)"
   ]
  },
  {
   "cell_type": "code",
   "execution_count": 465,
   "metadata": {},
   "outputs": [],
   "source": [
    "def F1_score(pred_polys, true_polys, threshold):\n",
    "    \"\"\"\n",
    "    Calculates F1 score using shapely polygons.\n",
    "\n",
    "    :param pred_polys: Predicted polygons.\n",
    "    :param true_polys: Ground truth polygons.\n",
    "    :param threshold: IoU threshold.\n",
    "    :return: F1 score, recall, precision.\n",
    "    \"\"\"\n",
    "    preds = [pred.buffer(0) for pred in pred_polys]\n",
    "    truths = [true.buffer(0) for true in true_polys]\n",
    "\n",
    "    if (len(preds) == 0) and (len(truths) == 0):\n",
    "        precision = 1\n",
    "        recall = 1\n",
    "        F1 = 1\n",
    "        return F1, recall, precision\n",
    "\n",
    "    true_positives = 0\n",
    "    false_positives = 0\n",
    "    false_negatives = 0\n",
    "\n",
    "    for truth in truths:\n",
    "        ious = []\n",
    "        for pred in preds:\n",
    "            if not truth.intersects(pred):\n",
    "                ious.append(0)\n",
    "            else:\n",
    "                intersection = truth.intersection(pred).area\n",
    "                union = truth.union(pred).area\n",
    "                ious.append(intersection / union)\n",
    "\n",
    "        if len(ious) == 0:\n",
    "            false_negatives += 1\n",
    "            continue\n",
    "\n",
    "        best = max(ious)\n",
    "        if best >= threshold:\n",
    "            preds.pop(ious.index(best))\n",
    "            true_positives += 1\n",
    "        else:\n",
    "            false_negatives += 1\n",
    "\n",
    "    false_positives = len(preds)\n",
    "\n",
    "    try:\n",
    "        precision = true_positives / (true_positives + false_positives)\n",
    "    except:\n",
    "        print(\"Precision value undefined, setting to zero\")\n",
    "        precision = 0\n",
    "\n",
    "    try:\n",
    "        recall = true_positives / (true_positives + false_negatives)\n",
    "    except:\n",
    "        print(\"Recall value undefined, setting to zero\")\n",
    "        recall = 0\n",
    "\n",
    "    try:\n",
    "        F1 = (\n",
    "            2 * (precision * recall) / (precision + recall)\n",
    "        )\n",
    "    except:\n",
    "        print(\"F1 value undefined, setting to zero\")\n",
    "        F1 = 0\n",
    "    return F1, recall, precision\n"
   ]
  },
  {
   "cell_type": "code",
   "execution_count": 466,
   "metadata": {},
   "outputs": [],
   "source": [
    "areas = [_poly.area for _poly in gt_for_f1['geometry'].values]"
   ]
  },
  {
   "cell_type": "code",
   "execution_count": 467,
   "metadata": {},
   "outputs": [
    {
     "data": {
      "text/plain": [
       "611342.2138652551"
      ]
     },
     "execution_count": 467,
     "metadata": {},
     "output_type": "execute_result"
    }
   ],
   "source": [
    "np.max(areas)"
   ]
  },
  {
   "cell_type": "code",
   "execution_count": 468,
   "metadata": {},
   "outputs": [],
   "source": [
    "pred_areas = [_poly.area for _poly in pred_for_f1['geometry'].values]"
   ]
  },
  {
   "cell_type": "code",
   "execution_count": 469,
   "metadata": {},
   "outputs": [
    {
     "data": {
      "text/plain": [
       "1074450.0"
      ]
     },
     "execution_count": 469,
     "metadata": {},
     "output_type": "execute_result"
    }
   ],
   "source": [
    "np.max(pred_areas)"
   ]
  },
  {
   "cell_type": "code",
   "execution_count": 470,
   "metadata": {},
   "outputs": [],
   "source": [
    "pred_filtered = pred_for_f1['geometry'].values[np.array(pred_areas) > 2950]"
   ]
  },
  {
   "cell_type": "code",
   "execution_count": 471,
   "metadata": {},
   "outputs": [
    {
     "data": {
      "text/plain": [
       "1369"
      ]
     },
     "execution_count": 471,
     "metadata": {},
     "output_type": "execute_result"
    }
   ],
   "source": [
    "len(pred_filtered)"
   ]
  },
  {
   "cell_type": "code",
   "execution_count": 472,
   "metadata": {},
   "outputs": [
    {
     "data": {
      "text/plain": [
       "1524"
      ]
     },
     "execution_count": 472,
     "metadata": {},
     "output_type": "execute_result"
    }
   ],
   "source": [
    "len(gt_for_f1['geometry'].values)"
   ]
  },
  {
   "cell_type": "code",
   "execution_count": 473,
   "metadata": {},
   "outputs": [],
   "source": [
    "metrics = F1_score(pred_filtered, gt_for_f1['geometry'].values, 0.5)\n",
    "F1 = metrics[0]"
   ]
  },
  {
   "cell_type": "code",
   "execution_count": 474,
   "metadata": {},
   "outputs": [
    {
     "data": {
      "text/plain": [
       "(0.3781541652264086, 0.3589238845144357, 0.3995617238860482)"
      ]
     },
     "execution_count": 474,
     "metadata": {},
     "output_type": "execute_result"
    }
   ],
   "source": [
    "metrics"
   ]
  },
  {
   "cell_type": "code",
   "execution_count": null,
   "metadata": {},
   "outputs": [],
   "source": []
  }
 ],
 "metadata": {
  "kernelspec": {
   "display_name": "Python 3",
   "language": "python",
   "name": "python3"
  },
  "language_info": {
   "codemirror_mode": {
    "name": "ipython",
    "version": 3
   },
   "file_extension": ".py",
   "mimetype": "text/x-python",
   "name": "python",
   "nbconvert_exporter": "python",
   "pygments_lexer": "ipython3",
   "version": "3.6.8"
  }
 },
 "nbformat": 4,
 "nbformat_minor": 2
}
