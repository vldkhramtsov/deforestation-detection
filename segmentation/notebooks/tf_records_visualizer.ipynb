{
 "cells": [
  {
   "cell_type": "code",
   "execution_count": 1,
   "metadata": {},
   "outputs": [],
   "source": [
    "import pandas as pd\n",
    "import numpy as np\n",
    "from shutil import copyfile\n",
    "\n",
    "import os\n",
    "import cv2 as cv\n",
    "from PIL import Image\n",
    "import skimage.io as io\n",
    "\n",
    "import segmentation_models_pytorch as smp\n",
    "import torch\n",
    "import torchvision.transforms as transforms\n",
    "import tensorflow as tf\n",
    "tf.enable_eager_execution()\n",
    "\n",
    "import matplotlib.pyplot as plt\n",
    "import matplotlib.gridspec as gridspec\n",
    "%matplotlib inline\n",
    "from ipywidgets import interact, Text, RadioButtons, fixed, FloatSlider\n",
    "import ipywidgets as widgets\n",
    "from IPython.display import clear_output"
   ]
  },
  {
   "cell_type": "code",
   "execution_count": 2,
   "metadata": {},
   "outputs": [],
   "source": [
    "\n",
    "import warnings\n",
    "warnings.filterwarnings(\"ignore\")"
   ]
  },
  {
   "cell_type": "code",
   "execution_count": 3,
   "metadata": {},
   "outputs": [],
   "source": [
    "def read_from_tf_records(tf_records_path):\n",
    "    \"\"\"\n",
    "    Reads images, labels from tfrecords files.\n",
    "    :param tf_records_path: list of tfrecord file names\n",
    "    :return: lists of\n",
    "    \"\"\"\n",
    "    img_heights, img_widths, dice_scores, imgs, masks, results, img_names, metrics = [], [], [], [], [], [], [], []\n",
    "\n",
    "    assert os.path.isfile(tf_records_path)\n",
    "    record_iterator = tf.python_io.tf_record_iterator(tf_records_path)\n",
    "    for serialized_example in record_iterator:\n",
    "        \n",
    "        example = tf.train.Example()\n",
    "        example.ParseFromString(serialized_example)\n",
    "        \n",
    "        img_raw = example.features.feature['img_raw'].bytes_list.value\n",
    "        msk_raw = example.features.feature['mask_raw'].bytes_list.value\n",
    "        rst_raw = example.features.feature['pred_raw'].bytes_list.value\n",
    "        \n",
    "        img_height = example.features.feature['img_height'].int64_list.value\n",
    "        img_width = example.features.feature['img_width'].int64_list.value\n",
    "        image_name = example.features.feature['img_name'].bytes_list.value\n",
    "        \n",
    "        dice_score = example.features.feature['dice_score'].float_list.value\n",
    "        metric= example.features.feature['metric'].float_list.value\n",
    "        \n",
    "        image = Image.frombytes('RGB', (img_width[0], img_height[0]), img_raw[0])\n",
    "        mask = Image.frombytes('RGB', (img_width[0], img_height[0]), msk_raw[0])\n",
    "        result = Image.frombytes('RGB', (img_width[0], img_height[0]), rst_raw[0])\n",
    "        \n",
    "        img_heights.append(img_height[0])\n",
    "        img_widths.append(img_width[0])\n",
    "        img_names.append(image_name[0])\n",
    "        \n",
    "        dice_scores.append(dice_score[0])\n",
    "        metrics.append(metric[0])\n",
    "        \n",
    "        imgs.append(np.array(image))\n",
    "        masks.append(np.array(mask))\n",
    "        results.append(np.array(result))\n",
    "\n",
    "\n",
    "    return img_heights, img_widths, np.array(dice_scores), np.array(imgs), np.array(masks), np.array(results), np.array(img_names), np.array(metrics)"
   ]
  },
  {
   "cell_type": "code",
   "execution_count": 4,
   "metadata": {},
   "outputs": [],
   "source": [
    "def visualize_tfr(image, mask, result, dices, names, metrics):\n",
    "    grid_width=1\n",
    "    grid_height=6\n",
    "\n",
    "    fig = plt.figure(figsize=(20, 22))\n",
    "    outer = gridspec.GridSpec(grid_height, grid_width, wspace=0.1, hspace=0.1)\n",
    "\n",
    "    for i in range(grid_height * grid_width):\n",
    "        inner = gridspec.GridSpecFromSubplotSpec(1, 4,\n",
    "                        subplot_spec=outer[i], wspace=0.1, hspace=0.1)\n",
    "\n",
    "        try:\n",
    "            for j, (im, cls, label) in enumerate(zip([image[i], mask[i], result[i], result[i]],\n",
    "                                                     ['Image', 'Mask', 'Result', 'Thresholded result'],\n",
    "                                                     [dices[i], names[i], names[i], names[i]])):\n",
    "                ax = plt.Subplot(fig, inner[j])\n",
    "                ax.set_title(cls)\n",
    "                if cls == 'Image':\n",
    "                    ax.imshow(im)\n",
    "\n",
    "                elif cls == 'Mask':\n",
    "                    ax.imshow(im, cmap=plt.cm.jet)\n",
    "                    ax.set_xlabel(str(names[i]) + ' dice: ' + str(round(dices[i], 4)) + ' metric: ' + str(round(metrics[i], 4)))\n",
    "                elif cls == 'Result':\n",
    "#                     prediction = np.zeros(im.shape)\n",
    "#                     prediction[im > 128]=1\n",
    "                    ax.imshow(im, cmap=plt.cm.jet)\n",
    "                else:\n",
    "                    prediction = np.zeros(im.shape)\n",
    "                    prediction[im > 128]=1\n",
    "                    ax.imshow(prediction, cmap=plt.cm.jet)\n",
    "                ax.set_xticks([])\n",
    "                ax.set_yticks([])\n",
    "                fig.add_subplot(ax)\n",
    "        except:\n",
    "            continue"
   ]
  },
  {
   "cell_type": "code",
   "execution_count": 5,
   "metadata": {},
   "outputs": [],
   "source": [
    "def visualize_tf_records_inter(tfr, epsilon=0.05, num_samples=18):\n",
    "    img_heights, img_widths, dice_scores, imgs, masks, results, img_names, metrics = read_from_tf_records(tfr)\n",
    "    print(\"Average dice:\", round(np.average(dice_scores), 4))\n",
    "    def on_value_change(dice):\n",
    "        \n",
    "        indxs = np.where((dice_scores < dice+epsilon) & (dice_scores > dice-epsilon))[0]\n",
    "\n",
    "        step = num_samples\n",
    "        parts = int(np.ceil(len(indxs)/step))\n",
    "        print(\"Pages: {0}\".format(parts))\n",
    "\n",
    "        \n",
    "        def view_image(i):\n",
    "            start = i*step\n",
    "            finish = step + i*step\n",
    "            ind = indxs[start:finish]\n",
    "            visualize_tfr(imgs[ind], masks[ind], results[ind], dice_scores[ind], img_names[ind], metrics[ind])\n",
    "        if (len(indxs)>0):\n",
    "            interact(view_image, i=(0, parts-1), value=0)\n",
    "\n",
    "    interact(on_value_change, dice=FloatSlider(min=epsilon, max=1.0-epsilon, step=0.05, continuous_update=False, value=0.5));"
   ]
  },
  {
   "cell_type": "code",
   "execution_count": 21,
   "metadata": {},
   "outputs": [
    {
     "name": "stdout",
     "output_type": "stream",
     "text": [
      "Average dice: 0.5056\n"
     ]
    },
    {
     "data": {
      "application/vnd.jupyter.widget-view+json": {
       "model_id": "e8532d8f7eb2431b8ac480b8e2f92ac7",
       "version_major": 2,
       "version_minor": 0
      },
      "text/plain": [
       "interactive(children=(FloatSlider(value=0.5, continuous_update=False, description='dice', max=0.95, min=0.05, …"
      ]
     },
     "metadata": {},
     "output_type": "display_data"
    }
   ],
   "source": [
    "visualize_tf_records_inter('''../../test_data/predictions/unet50_ws_predictions/prediction_metrics.tfrecords''',\n",
    "                           epsilon=0.05,\n",
    "                           num_samples=8)"
   ]
  },
  {
   "cell_type": "code",
   "execution_count": 29,
   "metadata": {},
   "outputs": [
    {
     "name": "stdout",
     "output_type": "stream",
     "text": [
      "Average dice: 0.501\n"
     ]
    },
    {
     "data": {
      "application/vnd.jupyter.widget-view+json": {
       "model_id": "fb1e87903a8846cd9099f061a9b9820d",
       "version_major": 2,
       "version_minor": 0
      },
      "text/plain": [
       "interactive(children=(FloatSlider(value=0.5, continuous_update=False, description='dice', max=0.95, min=0.05, …"
      ]
     },
     "metadata": {},
     "output_type": "display_data"
    }
   ],
   "source": [
    "visualize_tf_records_inter('''../../test_data/predictions/fpn50_ws_predictions/predictions/prediction_metrics.tfrecords''',\n",
    "                           epsilon=0.05,\n",
    "                           num_samples=8)"
   ]
  },
  {
   "cell_type": "code",
   "execution_count": 26,
   "metadata": {},
   "outputs": [
    {
     "name": "stdout",
     "output_type": "stream",
     "text": [
      "Average dice: 0.5961\n"
     ]
    },
    {
     "data": {
      "application/vnd.jupyter.widget-view+json": {
       "model_id": "0a43d180884c45cab939941e436191cb",
       "version_major": 2,
       "version_minor": 0
      },
      "text/plain": [
       "interactive(children=(FloatSlider(value=0.5, continuous_update=False, description='dice', max=0.95, min=0.05, …"
      ]
     },
     "metadata": {},
     "output_type": "display_data"
    }
   ],
   "source": [
    "visualize_tf_records_inter('''../../test_data/predictions/unet50_w_predictions/predictions/prediction_metrics.tfrecords''',\n",
    "                           epsilon=0.05,\n",
    "                           num_samples=8)"
   ]
  },
  {
   "cell_type": "code",
   "execution_count": 23,
   "metadata": {},
   "outputs": [
    {
     "name": "stdout",
     "output_type": "stream",
     "text": [
      "Average dice: 0.5566\n"
     ]
    },
    {
     "data": {
      "application/vnd.jupyter.widget-view+json": {
       "model_id": "16409f4ca2d6433d8bf85ec661df22d3",
       "version_major": 2,
       "version_minor": 0
      },
      "text/plain": [
       "interactive(children=(FloatSlider(value=0.5, continuous_update=False, description='dice', max=0.95, min=0.05, …"
      ]
     },
     "metadata": {},
     "output_type": "display_data"
    }
   ],
   "source": [
    "visualize_tf_records_inter('''../../test_data/predictions/fpn_winter_predictions/predictions/prediction_metrics.tfrecords''',\n",
    "                           epsilon=0.05,\n",
    "                           num_samples=8)"
   ]
  },
  {
   "cell_type": "code",
   "execution_count": 27,
   "metadata": {},
   "outputs": [
    {
     "name": "stdout",
     "output_type": "stream",
     "text": [
      "Average dice: 0.4792\n"
     ]
    },
    {
     "data": {
      "application/vnd.jupyter.widget-view+json": {
       "model_id": "74b7662cc53242f48bf8849ee4103504",
       "version_major": 2,
       "version_minor": 0
      },
      "text/plain": [
       "interactive(children=(FloatSlider(value=0.5, continuous_update=False, description='dice', max=0.95, min=0.05, …"
      ]
     },
     "metadata": {},
     "output_type": "display_data"
    }
   ],
   "source": [
    "visualize_tf_records_inter('''../../test_data/predictions/unet50_s_predictions/predictions/prediction_metrics.tfrecords''',\n",
    "                           epsilon=0.05,\n",
    "                           num_samples=8)"
   ]
  },
  {
   "cell_type": "code",
   "execution_count": 28,
   "metadata": {},
   "outputs": [
    {
     "name": "stdout",
     "output_type": "stream",
     "text": [
      "Average dice: 0.5053\n"
     ]
    },
    {
     "data": {
      "application/vnd.jupyter.widget-view+json": {
       "model_id": "6c1cc6edf92742a0ae66a06b6db5b055",
       "version_major": 2,
       "version_minor": 0
      },
      "text/plain": [
       "interactive(children=(FloatSlider(value=0.5, continuous_update=False, description='dice', max=0.95, min=0.05, …"
      ]
     },
     "metadata": {},
     "output_type": "display_data"
    }
   ],
   "source": [
    "visualize_tf_records_inter('''../../test_data/predictions/fpn_summer_predictions/predictions/prediction_metrics.tfrecords''',\n",
    "                           epsilon=0.05,\n",
    "                           num_samples=8)"
   ]
  },
  {
   "cell_type": "code",
   "execution_count": 6,
   "metadata": {},
   "outputs": [
    {
     "name": "stdout",
     "output_type": "stream",
     "text": [
      "WARNING:tensorflow:From <ipython-input-3-053f51bf70bb>:10: tf_record_iterator (from tensorflow.python.lib.io.tf_record) is deprecated and will be removed in a future version.\n",
      "Instructions for updating:\n",
      "Use eager execution and: \n",
      "`tf.data.TFRecordDataset(path)`\n",
      "Average dice: 0.4901\n"
     ]
    },
    {
     "data": {
      "application/vnd.jupyter.widget-view+json": {
       "model_id": "321c1f7b2a5c4ffb907ed570883da460",
       "version_major": 2,
       "version_minor": 0
      },
      "text/plain": [
       "interactive(children=(FloatSlider(value=0.5, continuous_update=False, description='dice', max=0.95, min=0.05, …"
      ]
     },
     "metadata": {},
     "output_type": "display_data"
    }
   ],
   "source": [
    "visualize_tf_records_inter('''../../test_data/predictions/fpn101_wsa/predictions/prediction_metrics.tfrecords''',\n",
    "                           epsilon=0.05,\n",
    "                           num_samples=8)"
   ]
  },
  {
   "cell_type": "code",
   "execution_count": 9,
   "metadata": {},
   "outputs": [
    {
     "name": "stdout",
     "output_type": "stream",
     "text": [
      "Average dice: 0.4874\n"
     ]
    },
    {
     "data": {
      "application/vnd.jupyter.widget-view+json": {
       "model_id": "9c30b526719c4149a9f74e88e9cce74f",
       "version_major": 2,
       "version_minor": 0
      },
      "text/plain": [
       "interactive(children=(FloatSlider(value=0.5, continuous_update=False, description='dice', max=0.95, min=0.05, …"
      ]
     },
     "metadata": {},
     "output_type": "display_data"
    }
   ],
   "source": [
    "visualize_tf_records_inter('''../../test_data/predictions/fpn101_wsa_320_predictions/predictions/prediction_metrics.tfrecords''',\n",
    "                           epsilon=0.05,\n",
    "                           num_samples=8)"
   ]
  },
  {
   "cell_type": "code",
   "execution_count": 8,
   "metadata": {},
   "outputs": [
    {
     "name": "stdout",
     "output_type": "stream",
     "text": [
      "Average dice: 0.6003\n"
     ]
    },
    {
     "data": {
      "application/vnd.jupyter.widget-view+json": {
       "model_id": "00b0d3a8db1848afadfd5ffeef5780b9",
       "version_major": 2,
       "version_minor": 0
      },
      "text/plain": [
       "interactive(children=(FloatSlider(value=0.5, continuous_update=False, description='dice', max=0.95, min=0.05, …"
      ]
     },
     "metadata": {},
     "output_type": "display_data"
    }
   ],
   "source": [
    "visualize_tf_records_inter('''../../test_data/predictions/fpn101_wsa_224_train_predictions/predictions/prediction_metrics.tfrecords''',\n",
    "                           epsilon=0.05,\n",
    "                           num_samples=8)"
   ]
  },
  {
   "cell_type": "code",
   "execution_count": 6,
   "metadata": {},
   "outputs": [
    {
     "name": "stdout",
     "output_type": "stream",
     "text": [
      "WARNING:tensorflow:From <ipython-input-3-053f51bf70bb>:10: tf_record_iterator (from tensorflow.python.lib.io.tf_record) is deprecated and will be removed in a future version.\n",
      "Instructions for updating:\n",
      "Use eager execution and: \n",
      "`tf.data.TFRecordDataset(path)`\n",
      "Average dice: 0.588\n"
     ]
    },
    {
     "data": {
      "application/vnd.jupyter.widget-view+json": {
       "model_id": "b982e18c8d1b402baca964416ffac6f2",
       "version_major": 2,
       "version_minor": 0
      },
      "text/plain": [
       "interactive(children=(FloatSlider(value=0.5, continuous_update=False, description='dice', max=0.95, min=0.05, …"
      ]
     },
     "metadata": {},
     "output_type": "display_data"
    }
   ],
   "source": [
    "visualize_tf_records_inter('''../../test_data/predictions/fpn50_wsa_filtered_224/predictions/prediction_metrics.tfrecords''',\n",
    "                           epsilon=0.05,\n",
    "                           num_samples=8)"
   ]
  },
  {
   "cell_type": "code",
   "execution_count": 22,
   "metadata": {},
   "outputs": [
    {
     "name": "stdout",
     "output_type": "stream",
     "text": [
      "Average dice: 0.5486\n"
     ]
    },
    {
     "data": {
      "application/vnd.jupyter.widget-view+json": {
       "model_id": "37eb938dc1284353ac8c443dc46b1003",
       "version_major": 2,
       "version_minor": 0
      },
      "text/plain": [
       "interactive(children=(FloatSlider(value=0.5, continuous_update=False, description='dice', max=0.95, min=0.05, …"
      ]
     },
     "metadata": {},
     "output_type": "display_data"
    }
   ],
   "source": [
    "visualize_tf_records_inter('''../../test_data/predictions/fpn50_wsa_filtered_320_rnd_crop__predictions/predictions/prediction_metrics.tfrecords''',\n",
    "                           epsilon=0.05,\n",
    "                           num_samples=8)"
   ]
  },
  {
   "cell_type": "code",
   "execution_count": 23,
   "metadata": {},
   "outputs": [
    {
     "name": "stdout",
     "output_type": "stream",
     "text": [
      "Average dice: 0.5327\n"
     ]
    },
    {
     "data": {
      "application/vnd.jupyter.widget-view+json": {
       "model_id": "773dca3c122248bb905c824b6ab1b347",
       "version_major": 2,
       "version_minor": 0
      },
      "text/plain": [
       "interactive(children=(FloatSlider(value=0.5, continuous_update=False, description='dice', max=0.95, min=0.05, …"
      ]
     },
     "metadata": {},
     "output_type": "display_data"
    }
   ],
   "source": [
    "visualize_tf_records_inter('''../../test_data/predictions/fpn50_wsa_filtered_bootstrap_224/predictions/prediction_metrics.tfrecords''',\n",
    "                           epsilon=0.05,\n",
    "                           num_samples=8)"
   ]
  },
  {
   "cell_type": "code",
   "execution_count": 7,
   "metadata": {},
   "outputs": [
    {
     "name": "stdout",
     "output_type": "stream",
     "text": [
      "WARNING:tensorflow:From <ipython-input-4-053f51bf70bb>:10: tf_record_iterator (from tensorflow.python.lib.io.tf_record) is deprecated and will be removed in a future version.\n",
      "Instructions for updating:\n",
      "Use eager execution and: \n",
      "`tf.data.TFRecordDataset(path)`\n",
      "Average dice: 0.4321\n"
     ]
    },
    {
     "data": {
      "application/vnd.jupyter.widget-view+json": {
       "model_id": "9fe8b11600b246489192eafa21d629f5",
       "version_major": 2,
       "version_minor": 0
      },
      "text/plain": [
       "interactive(children=(FloatSlider(value=0.5, continuous_update=False, description='dice', max=0.95, min=0.05, …"
      ]
     },
     "metadata": {},
     "output_type": "display_data"
    }
   ],
   "source": [
    "visualize_tf_records_inter('''../../test_data/predictions/fpn50_open_wsa_predictions/predictions/prediction_metrics.tfrecords''',\n",
    "                           epsilon=0.05,\n",
    "                           num_samples=8)"
   ]
  },
  {
   "cell_type": "code",
   "execution_count": 14,
   "metadata": {},
   "outputs": [
    {
     "name": "stdout",
     "output_type": "stream",
     "text": [
      "Average dice: 0.4422\n"
     ]
    },
    {
     "data": {
      "application/vnd.jupyter.widget-view+json": {
       "model_id": "641379b41a30460680cd64048f6da2a4",
       "version_major": 2,
       "version_minor": 0
      },
      "text/plain": [
       "interactive(children=(FloatSlider(value=0.5, continuous_update=False, description='dice', max=0.95, min=0.05, …"
      ]
     },
     "metadata": {},
     "output_type": "display_data"
    }
   ],
   "source": [
    "visualize_tf_records_inter('''../../test_data/predictions/fpn50_segm_satellite_pretrained_320_rnd_crop/predictions/prediction_metrics.tfrecords''',\n",
    "                           epsilon=0.05,\n",
    "                           num_samples=8)"
   ]
  },
  {
   "cell_type": "code",
   "execution_count": 11,
   "metadata": {},
   "outputs": [
    {
     "name": "stdout",
     "output_type": "stream",
     "text": [
      "Average dice: 0.5643\n"
     ]
    },
    {
     "data": {
      "application/vnd.jupyter.widget-view+json": {
       "model_id": "73965587e5294241b076629c1de672c0",
       "version_major": 2,
       "version_minor": 0
      },
      "text/plain": [
       "interactive(children=(FloatSlider(value=0.5, continuous_update=False, description='dice', max=0.95, min=0.05, …"
      ]
     },
     "metadata": {},
     "output_type": "display_data"
    }
   ],
   "source": [
    "visualize_tf_records_inter('''../../test_data/predictions/fold_predictions/prediction_metrics.tfrecords''',\n",
    "                           epsilon=0.05,\n",
    "                           num_samples=8)"
   ]
  },
  {
   "cell_type": "code",
   "execution_count": 9,
   "metadata": {},
   "outputs": [
    {
     "name": "stdout",
     "output_type": "stream",
     "text": [
      "Average dice: 0.5082\n"
     ]
    },
    {
     "data": {
      "application/vnd.jupyter.widget-view+json": {
       "model_id": "6fe3ad7f0ff04c3094b55c345a774611",
       "version_major": 2,
       "version_minor": 0
      },
      "text/plain": [
       "interactive(children=(FloatSlider(value=0.5, continuous_update=False, description='dice', max=0.95, min=0.05, …"
      ]
     },
     "metadata": {},
     "output_type": "display_data"
    }
   ],
   "source": [
    "visualize_tf_records_inter('''../../test_data/predictions/fpn50_pseudolabeled/predictions/prediction_metrics.tfrecords''',\n",
    "                           epsilon=0.05,\n",
    "                           num_samples=8)"
   ]
  },
  {
   "cell_type": "code",
   "execution_count": 6,
   "metadata": {},
   "outputs": [
    {
     "name": "stdout",
     "output_type": "stream",
     "text": [
      "WARNING:tensorflow:From <ipython-input-3-053f51bf70bb>:10: tf_record_iterator (from tensorflow.python.lib.io.tf_record) is deprecated and will be removed in a future version.\n",
      "Instructions for updating:\n",
      "Use eager execution and: \n",
      "`tf.data.TFRecordDataset(path)`\n",
      "Average dice: 0.6046\n"
     ]
    },
    {
     "data": {
      "application/vnd.jupyter.widget-view+json": {
       "model_id": "aacb16eb1e0044a6b5e4bd344065d7cb",
       "version_major": 2,
       "version_minor": 0
      },
      "text/plain": [
       "interactive(children=(FloatSlider(value=0.5, continuous_update=False, description='dice', max=0.95, min=0.05, …"
      ]
     },
     "metadata": {},
     "output_type": "display_data"
    }
   ],
   "source": [
    "visualize_tf_records_inter('''../../test_data/predictions/fpn50_folds_train/predictions/prediction_metrics.tfrecords''',\n",
    "                           epsilon=0.05,\n",
    "                           num_samples=8)"
   ]
  },
  {
   "cell_type": "code",
   "execution_count": null,
   "metadata": {},
   "outputs": [],
   "source": [
    "model = smp.Unet('resnet50', encoder_weights='imagenet')\n",
    "checkpoint = torch.load('../../models/unet50_best.pth', map_location='cpu')\n",
    "model.load_state_dict(checkpoint['model_state_dict'])"
   ]
  },
  {
   "cell_type": "code",
   "execution_count": null,
   "metadata": {},
   "outputs": [],
   "source": [
    "img_path = \"../../test_data/preprocessed_winter/20160103_66979721-be1b-4451-84e0-4a573236defd_rgb/images/20160103_66979721-be1b-4451-84e0-4a573236defd_rgb_48_8.tiff\"\n",
    "mask_path = \"../../test_data/preprocessed_winter/20160103_66979721-be1b-4451-84e0-4a573236defd_rgb/masks/20160103_66979721-be1b-4451-84e0-4a573236defd_rgb_48_8.png\"\n",
    "\n",
    "\n",
    "img = Image.open(img_path)\n",
    "mask = Image.open(mask_path)\n",
    "\n",
    "img_tensor = transforms.ToTensor()(img)\n",
    "\n",
    "prediction = model.predict(img_tensor.view(1, 3, 224, 224))\n",
    "\n",
    "result = prediction.view(224, 224).detach().numpy()\n",
    "\n",
    "f, (ax1, ax2, ax3) = plt.subplots(1, 3, figsize=(20, 20), sharey=True)\n",
    "\n",
    "ax1.imshow(img)\n",
    "ax2.imshow(mask, cmap=plt.cm.jet)\n",
    "ax3.imshow(result, cmap=plt.cm.jet)"
   ]
  },
  {
   "cell_type": "code",
   "execution_count": null,
   "metadata": {},
   "outputs": [],
   "source": [
    "img_array = np.array(img).astype('float32') / 255.\n",
    "predicted_mask = np.stack([result, np.zeros((224, 224)).astype('float32'), np.zeros((224, 224)).astype('float32')], axis=2)\n",
    "mask_array = np.array(mask).astype('float32') / 255.\n",
    "gt_mask = np.stack([mask_array, np.zeros((224, 224)).astype('float32'), np.zeros((224, 224)).astype('float32')], axis=2)\n"
   ]
  },
  {
   "cell_type": "code",
   "execution_count": null,
   "metadata": {},
   "outputs": [],
   "source": [
    "alpha = 0.3\n",
    "beta = 1 - alpha\n",
    "gamma = 0.2\n",
    "\n",
    "predicted_and_image = cv.addWeighted(predicted_mask, alpha, img_array, beta, gamma)\n",
    "mask_and_image = cv.addWeighted(gt_mask, alpha, img_array, beta, gamma)"
   ]
  },
  {
   "cell_type": "code",
   "execution_count": null,
   "metadata": {},
   "outputs": [],
   "source": [
    "f, (ax1, ax2) = plt.subplots(1, 2, figsize=(20, 20), sharey=True)\n",
    "\n",
    "\n",
    "ax1.imshow(mask_and_image)\n",
    "ax2.imshow(predicted_and_image)"
   ]
  }
 ],
 "metadata": {
  "kernelspec": {
   "display_name": "Python 3",
   "language": "python",
   "name": "python3"
  },
  "language_info": {
   "codemirror_mode": {
    "name": "ipython",
    "version": 3
   },
   "file_extension": ".py",
   "mimetype": "text/x-python",
   "name": "python",
   "nbconvert_exporter": "python",
   "pygments_lexer": "ipython3",
   "version": "3.6.8"
  }
 },
 "nbformat": 4,
 "nbformat_minor": 2
}
