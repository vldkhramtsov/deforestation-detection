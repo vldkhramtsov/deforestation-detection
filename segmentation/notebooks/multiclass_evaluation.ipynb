{
 "cells": [
  {
   "cell_type": "code",
   "execution_count": 1,
   "metadata": {},
   "outputs": [],
   "source": [
    "import os\n",
    "import sys\n",
    "\n",
    "import geopandas as gp\n",
    "import numpy as np\n",
    "import pandas as pd\n",
    "import segmentation_models_pytorch as smp\n",
    "import torch\n",
    "from tqdm import tqdm\n",
    "\n",
    "from PIL import Image\n",
    "import cv2 as cv\n",
    "from torchvision.transforms import ToTensor\n",
    "import matplotlib.pyplot as plt\n",
    "\n",
    "from torch.nn import Softmax, LogSoftmax\n",
    "from catalyst.dl.metrics import dice\n",
    "from sklearn.metrics import multilabel_confusion_matrix"
   ]
  },
  {
   "cell_type": "code",
   "execution_count": 2,
   "metadata": {},
   "outputs": [],
   "source": [
    "from torch.nn import functional as F\n",
    "\n",
    "def multi_class_dice(input: torch.Tensor, target: torch.Tensor, eps=1e-7,\n",
    "                     threshold: float = None,\n",
    "                     activation: str = \"Softmax\"):\n",
    "    num_classes = input.shape[1]\n",
    "    true_1_hot = torch.eye(num_classes)[target]\n",
    "    true_1_hot = true_1_hot.permute(0, 3, 1, 2).float()\n",
    "    probas = F.softmax(input, dim=1)\n",
    "    true_1_hot = true_1_hot.type(input.type())\n",
    "    dims = (0,) + tuple(range(2, input.ndimension()))\n",
    "\n",
    "    intersection = torch.sum(probas * true_1_hot, dims)\n",
    "    cardinality = torch.sum(probas + true_1_hot, dims)\n",
    "    open_dice = ((2. * intersection[1] + eps) / (cardinality[1] + eps)).mean()\n",
    "    overgrown_dice = ((2. * intersection[2] + eps) / (cardinality[2] + eps)).mean()\n",
    "    return (open_dice + overgrown_dice) / 2"
   ]
  },
  {
   "cell_type": "code",
   "execution_count": 3,
   "metadata": {},
   "outputs": [],
   "source": [
    "model_weights_path = '../../models/fpn50_multiclass.pth'\n",
    "test_df_path = '../../test_data/preprocessed_new_markup_224_2016_multiclass/test.csv'\n",
    "train_df_path = '../../test_data/preprocessed_new_markup_224_2016_multiclass/train.csv'\n",
    "datasets_path = '../../test_data/preprocessed_new_markup_224_2016_multiclass/'"
   ]
  },
  {
   "cell_type": "code",
   "execution_count": 4,
   "metadata": {},
   "outputs": [
    {
     "data": {
      "text/plain": [
       "FPN(\n",
       "  (encoder): ResNetEncoder(\n",
       "    (conv1): Conv2d(3, 64, kernel_size=(7, 7), stride=(2, 2), padding=(3, 3), bias=False)\n",
       "    (bn1): BatchNorm2d(64, eps=1e-05, momentum=0.1, affine=True, track_running_stats=True)\n",
       "    (relu): ReLU(inplace)\n",
       "    (maxpool): MaxPool2d(kernel_size=3, stride=2, padding=1, dilation=1, ceil_mode=False)\n",
       "    (layer1): Sequential(\n",
       "      (0): Bottleneck(\n",
       "        (conv1): Conv2d(64, 64, kernel_size=(1, 1), stride=(1, 1), bias=False)\n",
       "        (bn1): BatchNorm2d(64, eps=1e-05, momentum=0.1, affine=True, track_running_stats=True)\n",
       "        (conv2): Conv2d(64, 64, kernel_size=(3, 3), stride=(1, 1), padding=(1, 1), bias=False)\n",
       "        (bn2): BatchNorm2d(64, eps=1e-05, momentum=0.1, affine=True, track_running_stats=True)\n",
       "        (conv3): Conv2d(64, 256, kernel_size=(1, 1), stride=(1, 1), bias=False)\n",
       "        (bn3): BatchNorm2d(256, eps=1e-05, momentum=0.1, affine=True, track_running_stats=True)\n",
       "        (relu): ReLU(inplace)\n",
       "        (downsample): Sequential(\n",
       "          (0): Conv2d(64, 256, kernel_size=(1, 1), stride=(1, 1), bias=False)\n",
       "          (1): BatchNorm2d(256, eps=1e-05, momentum=0.1, affine=True, track_running_stats=True)\n",
       "        )\n",
       "      )\n",
       "      (1): Bottleneck(\n",
       "        (conv1): Conv2d(256, 64, kernel_size=(1, 1), stride=(1, 1), bias=False)\n",
       "        (bn1): BatchNorm2d(64, eps=1e-05, momentum=0.1, affine=True, track_running_stats=True)\n",
       "        (conv2): Conv2d(64, 64, kernel_size=(3, 3), stride=(1, 1), padding=(1, 1), bias=False)\n",
       "        (bn2): BatchNorm2d(64, eps=1e-05, momentum=0.1, affine=True, track_running_stats=True)\n",
       "        (conv3): Conv2d(64, 256, kernel_size=(1, 1), stride=(1, 1), bias=False)\n",
       "        (bn3): BatchNorm2d(256, eps=1e-05, momentum=0.1, affine=True, track_running_stats=True)\n",
       "        (relu): ReLU(inplace)\n",
       "      )\n",
       "      (2): Bottleneck(\n",
       "        (conv1): Conv2d(256, 64, kernel_size=(1, 1), stride=(1, 1), bias=False)\n",
       "        (bn1): BatchNorm2d(64, eps=1e-05, momentum=0.1, affine=True, track_running_stats=True)\n",
       "        (conv2): Conv2d(64, 64, kernel_size=(3, 3), stride=(1, 1), padding=(1, 1), bias=False)\n",
       "        (bn2): BatchNorm2d(64, eps=1e-05, momentum=0.1, affine=True, track_running_stats=True)\n",
       "        (conv3): Conv2d(64, 256, kernel_size=(1, 1), stride=(1, 1), bias=False)\n",
       "        (bn3): BatchNorm2d(256, eps=1e-05, momentum=0.1, affine=True, track_running_stats=True)\n",
       "        (relu): ReLU(inplace)\n",
       "      )\n",
       "    )\n",
       "    (layer2): Sequential(\n",
       "      (0): Bottleneck(\n",
       "        (conv1): Conv2d(256, 128, kernel_size=(1, 1), stride=(1, 1), bias=False)\n",
       "        (bn1): BatchNorm2d(128, eps=1e-05, momentum=0.1, affine=True, track_running_stats=True)\n",
       "        (conv2): Conv2d(128, 128, kernel_size=(3, 3), stride=(2, 2), padding=(1, 1), bias=False)\n",
       "        (bn2): BatchNorm2d(128, eps=1e-05, momentum=0.1, affine=True, track_running_stats=True)\n",
       "        (conv3): Conv2d(128, 512, kernel_size=(1, 1), stride=(1, 1), bias=False)\n",
       "        (bn3): BatchNorm2d(512, eps=1e-05, momentum=0.1, affine=True, track_running_stats=True)\n",
       "        (relu): ReLU(inplace)\n",
       "        (downsample): Sequential(\n",
       "          (0): Conv2d(256, 512, kernel_size=(1, 1), stride=(2, 2), bias=False)\n",
       "          (1): BatchNorm2d(512, eps=1e-05, momentum=0.1, affine=True, track_running_stats=True)\n",
       "        )\n",
       "      )\n",
       "      (1): Bottleneck(\n",
       "        (conv1): Conv2d(512, 128, kernel_size=(1, 1), stride=(1, 1), bias=False)\n",
       "        (bn1): BatchNorm2d(128, eps=1e-05, momentum=0.1, affine=True, track_running_stats=True)\n",
       "        (conv2): Conv2d(128, 128, kernel_size=(3, 3), stride=(1, 1), padding=(1, 1), bias=False)\n",
       "        (bn2): BatchNorm2d(128, eps=1e-05, momentum=0.1, affine=True, track_running_stats=True)\n",
       "        (conv3): Conv2d(128, 512, kernel_size=(1, 1), stride=(1, 1), bias=False)\n",
       "        (bn3): BatchNorm2d(512, eps=1e-05, momentum=0.1, affine=True, track_running_stats=True)\n",
       "        (relu): ReLU(inplace)\n",
       "      )\n",
       "      (2): Bottleneck(\n",
       "        (conv1): Conv2d(512, 128, kernel_size=(1, 1), stride=(1, 1), bias=False)\n",
       "        (bn1): BatchNorm2d(128, eps=1e-05, momentum=0.1, affine=True, track_running_stats=True)\n",
       "        (conv2): Conv2d(128, 128, kernel_size=(3, 3), stride=(1, 1), padding=(1, 1), bias=False)\n",
       "        (bn2): BatchNorm2d(128, eps=1e-05, momentum=0.1, affine=True, track_running_stats=True)\n",
       "        (conv3): Conv2d(128, 512, kernel_size=(1, 1), stride=(1, 1), bias=False)\n",
       "        (bn3): BatchNorm2d(512, eps=1e-05, momentum=0.1, affine=True, track_running_stats=True)\n",
       "        (relu): ReLU(inplace)\n",
       "      )\n",
       "      (3): Bottleneck(\n",
       "        (conv1): Conv2d(512, 128, kernel_size=(1, 1), stride=(1, 1), bias=False)\n",
       "        (bn1): BatchNorm2d(128, eps=1e-05, momentum=0.1, affine=True, track_running_stats=True)\n",
       "        (conv2): Conv2d(128, 128, kernel_size=(3, 3), stride=(1, 1), padding=(1, 1), bias=False)\n",
       "        (bn2): BatchNorm2d(128, eps=1e-05, momentum=0.1, affine=True, track_running_stats=True)\n",
       "        (conv3): Conv2d(128, 512, kernel_size=(1, 1), stride=(1, 1), bias=False)\n",
       "        (bn3): BatchNorm2d(512, eps=1e-05, momentum=0.1, affine=True, track_running_stats=True)\n",
       "        (relu): ReLU(inplace)\n",
       "      )\n",
       "    )\n",
       "    (layer3): Sequential(\n",
       "      (0): Bottleneck(\n",
       "        (conv1): Conv2d(512, 256, kernel_size=(1, 1), stride=(1, 1), bias=False)\n",
       "        (bn1): BatchNorm2d(256, eps=1e-05, momentum=0.1, affine=True, track_running_stats=True)\n",
       "        (conv2): Conv2d(256, 256, kernel_size=(3, 3), stride=(2, 2), padding=(1, 1), bias=False)\n",
       "        (bn2): BatchNorm2d(256, eps=1e-05, momentum=0.1, affine=True, track_running_stats=True)\n",
       "        (conv3): Conv2d(256, 1024, kernel_size=(1, 1), stride=(1, 1), bias=False)\n",
       "        (bn3): BatchNorm2d(1024, eps=1e-05, momentum=0.1, affine=True, track_running_stats=True)\n",
       "        (relu): ReLU(inplace)\n",
       "        (downsample): Sequential(\n",
       "          (0): Conv2d(512, 1024, kernel_size=(1, 1), stride=(2, 2), bias=False)\n",
       "          (1): BatchNorm2d(1024, eps=1e-05, momentum=0.1, affine=True, track_running_stats=True)\n",
       "        )\n",
       "      )\n",
       "      (1): Bottleneck(\n",
       "        (conv1): Conv2d(1024, 256, kernel_size=(1, 1), stride=(1, 1), bias=False)\n",
       "        (bn1): BatchNorm2d(256, eps=1e-05, momentum=0.1, affine=True, track_running_stats=True)\n",
       "        (conv2): Conv2d(256, 256, kernel_size=(3, 3), stride=(1, 1), padding=(1, 1), bias=False)\n",
       "        (bn2): BatchNorm2d(256, eps=1e-05, momentum=0.1, affine=True, track_running_stats=True)\n",
       "        (conv3): Conv2d(256, 1024, kernel_size=(1, 1), stride=(1, 1), bias=False)\n",
       "        (bn3): BatchNorm2d(1024, eps=1e-05, momentum=0.1, affine=True, track_running_stats=True)\n",
       "        (relu): ReLU(inplace)\n",
       "      )\n",
       "      (2): Bottleneck(\n",
       "        (conv1): Conv2d(1024, 256, kernel_size=(1, 1), stride=(1, 1), bias=False)\n",
       "        (bn1): BatchNorm2d(256, eps=1e-05, momentum=0.1, affine=True, track_running_stats=True)\n",
       "        (conv2): Conv2d(256, 256, kernel_size=(3, 3), stride=(1, 1), padding=(1, 1), bias=False)\n",
       "        (bn2): BatchNorm2d(256, eps=1e-05, momentum=0.1, affine=True, track_running_stats=True)\n",
       "        (conv3): Conv2d(256, 1024, kernel_size=(1, 1), stride=(1, 1), bias=False)\n",
       "        (bn3): BatchNorm2d(1024, eps=1e-05, momentum=0.1, affine=True, track_running_stats=True)\n",
       "        (relu): ReLU(inplace)\n",
       "      )\n",
       "      (3): Bottleneck(\n",
       "        (conv1): Conv2d(1024, 256, kernel_size=(1, 1), stride=(1, 1), bias=False)\n",
       "        (bn1): BatchNorm2d(256, eps=1e-05, momentum=0.1, affine=True, track_running_stats=True)\n",
       "        (conv2): Conv2d(256, 256, kernel_size=(3, 3), stride=(1, 1), padding=(1, 1), bias=False)\n",
       "        (bn2): BatchNorm2d(256, eps=1e-05, momentum=0.1, affine=True, track_running_stats=True)\n",
       "        (conv3): Conv2d(256, 1024, kernel_size=(1, 1), stride=(1, 1), bias=False)\n",
       "        (bn3): BatchNorm2d(1024, eps=1e-05, momentum=0.1, affine=True, track_running_stats=True)\n",
       "        (relu): ReLU(inplace)\n",
       "      )\n",
       "      (4): Bottleneck(\n",
       "        (conv1): Conv2d(1024, 256, kernel_size=(1, 1), stride=(1, 1), bias=False)\n",
       "        (bn1): BatchNorm2d(256, eps=1e-05, momentum=0.1, affine=True, track_running_stats=True)\n",
       "        (conv2): Conv2d(256, 256, kernel_size=(3, 3), stride=(1, 1), padding=(1, 1), bias=False)\n",
       "        (bn2): BatchNorm2d(256, eps=1e-05, momentum=0.1, affine=True, track_running_stats=True)\n",
       "        (conv3): Conv2d(256, 1024, kernel_size=(1, 1), stride=(1, 1), bias=False)\n",
       "        (bn3): BatchNorm2d(1024, eps=1e-05, momentum=0.1, affine=True, track_running_stats=True)\n",
       "        (relu): ReLU(inplace)\n",
       "      )\n",
       "      (5): Bottleneck(\n",
       "        (conv1): Conv2d(1024, 256, kernel_size=(1, 1), stride=(1, 1), bias=False)\n",
       "        (bn1): BatchNorm2d(256, eps=1e-05, momentum=0.1, affine=True, track_running_stats=True)\n",
       "        (conv2): Conv2d(256, 256, kernel_size=(3, 3), stride=(1, 1), padding=(1, 1), bias=False)\n",
       "        (bn2): BatchNorm2d(256, eps=1e-05, momentum=0.1, affine=True, track_running_stats=True)\n",
       "        (conv3): Conv2d(256, 1024, kernel_size=(1, 1), stride=(1, 1), bias=False)\n",
       "        (bn3): BatchNorm2d(1024, eps=1e-05, momentum=0.1, affine=True, track_running_stats=True)\n",
       "        (relu): ReLU(inplace)\n",
       "      )\n",
       "    )\n",
       "    (layer4): Sequential(\n",
       "      (0): Bottleneck(\n",
       "        (conv1): Conv2d(1024, 512, kernel_size=(1, 1), stride=(1, 1), bias=False)\n",
       "        (bn1): BatchNorm2d(512, eps=1e-05, momentum=0.1, affine=True, track_running_stats=True)\n",
       "        (conv2): Conv2d(512, 512, kernel_size=(3, 3), stride=(2, 2), padding=(1, 1), bias=False)\n",
       "        (bn2): BatchNorm2d(512, eps=1e-05, momentum=0.1, affine=True, track_running_stats=True)\n",
       "        (conv3): Conv2d(512, 2048, kernel_size=(1, 1), stride=(1, 1), bias=False)\n",
       "        (bn3): BatchNorm2d(2048, eps=1e-05, momentum=0.1, affine=True, track_running_stats=True)\n",
       "        (relu): ReLU(inplace)\n",
       "        (downsample): Sequential(\n",
       "          (0): Conv2d(1024, 2048, kernel_size=(1, 1), stride=(2, 2), bias=False)\n",
       "          (1): BatchNorm2d(2048, eps=1e-05, momentum=0.1, affine=True, track_running_stats=True)\n",
       "        )\n",
       "      )\n",
       "      (1): Bottleneck(\n",
       "        (conv1): Conv2d(2048, 512, kernel_size=(1, 1), stride=(1, 1), bias=False)\n",
       "        (bn1): BatchNorm2d(512, eps=1e-05, momentum=0.1, affine=True, track_running_stats=True)\n",
       "        (conv2): Conv2d(512, 512, kernel_size=(3, 3), stride=(1, 1), padding=(1, 1), bias=False)\n",
       "        (bn2): BatchNorm2d(512, eps=1e-05, momentum=0.1, affine=True, track_running_stats=True)\n",
       "        (conv3): Conv2d(512, 2048, kernel_size=(1, 1), stride=(1, 1), bias=False)\n",
       "        (bn3): BatchNorm2d(2048, eps=1e-05, momentum=0.1, affine=True, track_running_stats=True)\n",
       "        (relu): ReLU(inplace)\n",
       "      )\n",
       "      (2): Bottleneck(\n",
       "        (conv1): Conv2d(2048, 512, kernel_size=(1, 1), stride=(1, 1), bias=False)\n",
       "        (bn1): BatchNorm2d(512, eps=1e-05, momentum=0.1, affine=True, track_running_stats=True)\n",
       "        (conv2): Conv2d(512, 512, kernel_size=(3, 3), stride=(1, 1), padding=(1, 1), bias=False)\n",
       "        (bn2): BatchNorm2d(512, eps=1e-05, momentum=0.1, affine=True, track_running_stats=True)\n",
       "        (conv3): Conv2d(512, 2048, kernel_size=(1, 1), stride=(1, 1), bias=False)\n",
       "        (bn3): BatchNorm2d(2048, eps=1e-05, momentum=0.1, affine=True, track_running_stats=True)\n",
       "        (relu): ReLU(inplace)\n",
       "      )\n",
       "    )\n",
       "    (avgpool): AdaptiveAvgPool2d(output_size=(1, 1))\n",
       "  )\n",
       "  (decoder): FPNDecoder(\n",
       "    (conv1): Conv2d(2048, 256, kernel_size=(1, 1), stride=(1, 1))\n",
       "    (p4): FPNBlock(\n",
       "      (skip_conv): Conv2d(1024, 256, kernel_size=(1, 1), stride=(1, 1))\n",
       "    )\n",
       "    (p3): FPNBlock(\n",
       "      (skip_conv): Conv2d(512, 256, kernel_size=(1, 1), stride=(1, 1))\n",
       "    )\n",
       "    (p2): FPNBlock(\n",
       "      (skip_conv): Conv2d(256, 256, kernel_size=(1, 1), stride=(1, 1))\n",
       "    )\n",
       "    (s5): SegmentationBlock(\n",
       "      (block): Sequential(\n",
       "        (0): Conv3x3GNReLU(\n",
       "          (block): Sequential(\n",
       "            (0): Conv2d(256, 128, kernel_size=(3, 3), stride=(1, 1), padding=(1, 1), bias=False)\n",
       "            (1): GroupNorm(32, 128, eps=1e-05, affine=True)\n",
       "            (2): ReLU(inplace)\n",
       "          )\n",
       "        )\n",
       "        (1): Conv3x3GNReLU(\n",
       "          (block): Sequential(\n",
       "            (0): Conv2d(128, 128, kernel_size=(3, 3), stride=(1, 1), padding=(1, 1), bias=False)\n",
       "            (1): GroupNorm(32, 128, eps=1e-05, affine=True)\n",
       "            (2): ReLU(inplace)\n",
       "          )\n",
       "        )\n",
       "        (2): Conv3x3GNReLU(\n",
       "          (block): Sequential(\n",
       "            (0): Conv2d(128, 128, kernel_size=(3, 3), stride=(1, 1), padding=(1, 1), bias=False)\n",
       "            (1): GroupNorm(32, 128, eps=1e-05, affine=True)\n",
       "            (2): ReLU(inplace)\n",
       "          )\n",
       "        )\n",
       "      )\n",
       "    )\n",
       "    (s4): SegmentationBlock(\n",
       "      (block): Sequential(\n",
       "        (0): Conv3x3GNReLU(\n",
       "          (block): Sequential(\n",
       "            (0): Conv2d(256, 128, kernel_size=(3, 3), stride=(1, 1), padding=(1, 1), bias=False)\n",
       "            (1): GroupNorm(32, 128, eps=1e-05, affine=True)\n",
       "            (2): ReLU(inplace)\n",
       "          )\n",
       "        )\n",
       "        (1): Conv3x3GNReLU(\n",
       "          (block): Sequential(\n",
       "            (0): Conv2d(128, 128, kernel_size=(3, 3), stride=(1, 1), padding=(1, 1), bias=False)\n",
       "            (1): GroupNorm(32, 128, eps=1e-05, affine=True)\n",
       "            (2): ReLU(inplace)\n",
       "          )\n",
       "        )\n",
       "      )\n",
       "    )\n",
       "    (s3): SegmentationBlock(\n",
       "      (block): Sequential(\n",
       "        (0): Conv3x3GNReLU(\n",
       "          (block): Sequential(\n",
       "            (0): Conv2d(256, 128, kernel_size=(3, 3), stride=(1, 1), padding=(1, 1), bias=False)\n",
       "            (1): GroupNorm(32, 128, eps=1e-05, affine=True)\n",
       "            (2): ReLU(inplace)\n",
       "          )\n",
       "        )\n",
       "      )\n",
       "    )\n",
       "    (s2): SegmentationBlock(\n",
       "      (block): Sequential(\n",
       "        (0): Conv3x3GNReLU(\n",
       "          (block): Sequential(\n",
       "            (0): Conv2d(256, 128, kernel_size=(3, 3), stride=(1, 1), padding=(1, 1), bias=False)\n",
       "            (1): GroupNorm(32, 128, eps=1e-05, affine=True)\n",
       "            (2): ReLU(inplace)\n",
       "          )\n",
       "        )\n",
       "      )\n",
       "    )\n",
       "    (dropout): Dropout2d(p=0.2, inplace)\n",
       "    (final_conv): Conv2d(128, 3, kernel_size=(1, 1), stride=(1, 1))\n",
       "  )\n",
       "  (activation): Softmax()\n",
       ")"
      ]
     },
     "execution_count": 4,
     "metadata": {},
     "output_type": "execute_result"
    }
   ],
   "source": [
    "filenames = pd.read_csv(test_df_path)\n",
    "model = smp.FPN('resnet50', encoder_weights='imagenet', classes=3, activation='softmax')\n",
    "checkpoint = torch.load(model_weights_path, map_location='cpu')\n",
    "model.load_state_dict(checkpoint['model_state_dict'])\n",
    "model.eval()"
   ]
  },
  {
   "cell_type": "code",
   "execution_count": 5,
   "metadata": {},
   "outputs": [],
   "source": [
    "image_info=filenames.iloc[0]\n",
    "name = image_info[\"name\"] + '_' + image_info[\"channel\"] + '_' + image_info[\"position\"]\n",
    "image = Image.open(\n",
    "    os.path.join(datasets_path, image_info[\"dataset_folder\"], \"images\", name + '.' + image_info[\"image_type\"]))\n",
    "mask = Image.open(\n",
    "    os.path.join(datasets_path, image_info[\"dataset_folder\"], \"masks\", name + '.' + image_info[\"mask_type\"]))"
   ]
  },
  {
   "cell_type": "code",
   "execution_count": 6,
   "metadata": {},
   "outputs": [
    {
     "data": {
      "text/plain": [
       "<matplotlib.image.AxesImage at 0x7fd4b2602208>"
      ]
     },
     "execution_count": 6,
     "metadata": {},
     "output_type": "execute_result"
    },
    {
     "data": {
      "image/png": "[encoded data removed]",
      "text/plain": [
       "<Figure size 432x288 with 1 Axes>"
      ]
     },
     "metadata": {
      "needs_background": "light"
     },
     "output_type": "display_data"
    }
   ],
   "source": [
    "plt.imshow(image)"
   ]
  },
  {
   "cell_type": "code",
   "execution_count": 7,
   "metadata": {},
   "outputs": [
    {
     "data": {
      "image/png": "[encoded data removed]",
      "text/plain": [
       "<PIL.Image.Image image mode=L size=224x224 at 0x7FD4B25F0080>"
      ]
     },
     "execution_count": 7,
     "metadata": {},
     "output_type": "execute_result"
    }
   ],
   "source": [
    "Image.fromarray(np.array(mask)*120)"
   ]
  },
  {
   "cell_type": "code",
   "execution_count": 8,
   "metadata": {},
   "outputs": [],
   "source": [
    "img_array = np.array(image)\n",
    "mask_array = np.array(mask).astype(np.float32)\n",
    "image_tensor = ToTensor()(img_array).view(1, 3, 224, 224)\n",
    "mask_tensor = ToTensor()(mask_array).squeeze().view(1, 224, 224).long()"
   ]
  },
  {
   "cell_type": "code",
   "execution_count": 9,
   "metadata": {},
   "outputs": [],
   "source": [
    "prediction = model.forward(image_tensor)"
   ]
  },
  {
   "cell_type": "code",
   "execution_count": 10,
   "metadata": {},
   "outputs": [
    {
     "data": {
      "text/plain": [
       "torch.Size([1, 3, 224, 224])"
      ]
     },
     "execution_count": 10,
     "metadata": {},
     "output_type": "execute_result"
    }
   ],
   "source": [
    "prediction.shape"
   ]
  },
  {
   "cell_type": "code",
   "execution_count": 11,
   "metadata": {},
   "outputs": [],
   "source": [
    "softmax_output = Softmax(dim=1)(prediction)\n",
    "predicted_classes = softmax_output.squeeze().permute(1, 2, 0).detach().numpy()"
   ]
  },
  {
   "cell_type": "code",
   "execution_count": 12,
   "metadata": {},
   "outputs": [
    {
     "data": {
      "text/plain": [
       "<matplotlib.image.AxesImage at 0x7fd4b2151eb8>"
      ]
     },
     "execution_count": 12,
     "metadata": {},
     "output_type": "execute_result"
    },
    {
     "data": {
      "image/png": "[encoded data removed]",
      "text/plain": [
       "<Figure size 432x288 with 1 Axes>"
      ]
     },
     "metadata": {
      "needs_background": "light"
     },
     "output_type": "display_data"
    }
   ],
   "source": [
    "plt.imshow(predicted_classes)"
   ]
  },
  {
   "cell_type": "code",
   "execution_count": 13,
   "metadata": {},
   "outputs": [
    {
     "data": {
      "text/plain": [
       "<matplotlib.image.AxesImage at 0x7fd4b08c0550>"
      ]
     },
     "execution_count": 13,
     "metadata": {},
     "output_type": "execute_result"
    },
    {
     "data": {
      "image/png": "[encoded data removed]",
      "text/plain": [
       "<Figure size 432x288 with 1 Axes>"
      ]
     },
     "metadata": {
      "needs_background": "light"
     },
     "output_type": "display_data"
    }
   ],
   "source": [
    "cleancuts = predicted_classes[:,:,1] + predicted_classes[:,:,2]\n",
    "plt.imshow(cleancuts)"
   ]
  },
  {
   "cell_type": "code",
   "execution_count": 14,
   "metadata": {},
   "outputs": [],
   "source": [
    "cleancuts_image = Image.fromarray(np.uint8(cleancuts*255), 'L')"
   ]
  },
  {
   "cell_type": "code",
   "execution_count": 15,
   "metadata": {},
   "outputs": [
    {
     "data": {
      "image/png": "[encoded data removed]",
      "text/plain": [
       "<PIL.Image.Image image mode=L size=224x224 at 0x7FD4B0882198>"
      ]
     },
     "execution_count": 15,
     "metadata": {},
     "output_type": "execute_result"
    }
   ],
   "source": [
    "cleancuts_image"
   ]
  },
  {
   "cell_type": "code",
   "execution_count": 16,
   "metadata": {},
   "outputs": [],
   "source": [
    "mask_image = Image.fromarray(np.uint8(mask)*100, 'L')"
   ]
  },
  {
   "cell_type": "code",
   "execution_count": 17,
   "metadata": {},
   "outputs": [
    {
     "data": {
      "image/png": "[encoded data removed]",
      "text/plain": [
       "<PIL.Image.Image image mode=L size=224x224 at 0x7FD4B0882080>"
      ]
     },
     "execution_count": 17,
     "metadata": {},
     "output_type": "execute_result"
    }
   ],
   "source": [
    "mask_image"
   ]
  },
  {
   "cell_type": "code",
   "execution_count": 18,
   "metadata": {},
   "outputs": [],
   "source": [
    "def add_color(a):\n",
    "    max_idx = np.argmax(a)\n",
    "    if max_idx == 0:\n",
    "        return np.array([0,0,0], dtype=np.uint8)\n",
    "    elif max_idx == 1:\n",
    "        return np.array([66, 244, 78], dtype=np.uint8)\n",
    "    elif max_idx == 2:\n",
    "        return np.array([244, 163, 65], dtype=np.uint8)\n",
    "    else:\n",
    "        raise ValueError()"
   ]
  },
  {
   "cell_type": "code",
   "execution_count": 19,
   "metadata": {},
   "outputs": [],
   "source": [
    "colored = np.apply_along_axis(add_color, 2, predicted_classes)"
   ]
  },
  {
   "cell_type": "code",
   "execution_count": 20,
   "metadata": {},
   "outputs": [],
   "source": [
    "img = Image.fromarray(colored)"
   ]
  },
  {
   "cell_type": "code",
   "execution_count": 21,
   "metadata": {},
   "outputs": [
    {
     "data": {
      "image/png": "[encoded data removed]",
      "text/plain": [
       "<PIL.Image.Image image mode=RGB size=224x224 at 0x7FD4B0882B38>"
      ]
     },
     "execution_count": 21,
     "metadata": {},
     "output_type": "execute_result"
    }
   ],
   "source": [
    "img"
   ]
  },
  {
   "cell_type": "code",
   "execution_count": 5,
   "metadata": {},
   "outputs": [],
   "source": [
    "def dice_coef(y_true, y_pred, eps=1e-7):\n",
    "    y_true_f = y_true.flatten()\n",
    "    y_pred_f = y_pred.flatten()\n",
    "    intersection = np.sum(y_true_f * y_pred_f)\n",
    "    return (2. * intersection + eps) / (np.sum(y_true_f) + np.sum(y_pred_f))"
   ]
  },
  {
   "cell_type": "code",
   "execution_count": 6,
   "metadata": {},
   "outputs": [],
   "source": [
    "def get_inputs(datasets_path, image_info):\n",
    "    name = image_info[\"name\"] + '_' + image_info[\"channel\"] + '_' + image_info[\"position\"]\n",
    "    image = Image.open(\n",
    "        os.path.join(datasets_path, image_info[\"dataset_folder\"], \"images\", name + '.' + image_info[\"image_type\"]))\n",
    "    mask = Image.open(\n",
    "        os.path.join(datasets_path, image_info[\"dataset_folder\"], \"masks\", name + '.' + image_info[\"mask_type\"]))\n",
    "    name = image_info[\"name\"] + '_' + image_info[\"channel\"] + '_' + image_info[\"position\"]\n",
    "    \n",
    "    img_array = np.array(image)\n",
    "    mask_array = np.array(mask).astype(np.float32)\n",
    "    image_tensor = ToTensor()(img_array).view(1, 3, 224, 224)\n",
    "    mask_tensor = ToTensor()(mask_array).view(1, 224, 224).long()\n",
    "    return image_tensor, mask_tensor, mask_array"
   ]
  },
  {
   "cell_type": "code",
   "execution_count": 37,
   "metadata": {
    "scrolled": true
   },
   "outputs": [
    {
     "name": "stderr",
     "output_type": "stream",
     "text": [
      "153it [00:40,  3.59it/s]\n"
     ]
    }
   ],
   "source": [
    "dices = []\n",
    "for ind, image_info in tqdm(filenames.iterrows()):\n",
    "    image_tensor, mask_tensor, mask_array = get_inputs(datasets_path, image_info)\n",
    "    \n",
    "    prediction = model.forward(image_tensor)\n",
    "    softmax_output = Softmax(dim=1)(prediction)\n",
    "    predicted_class_probs = softmax_output.squeeze().permute(1, 2, 0).detach().numpy()\n",
    "    cleancuts = predicted_class_probs[:,:,1] + predicted_class_probs[:,:,2]\n",
    "    \n",
    "    cleancut_mask = np.uint8(mask_array!=0) > 0.5\n",
    "    \n",
    "    dices.append(dice_coef(cleancut_mask, cleancuts > 0.5))"
   ]
  },
  {
   "cell_type": "code",
   "execution_count": 38,
   "metadata": {},
   "outputs": [
    {
     "data": {
      "text/plain": [
       "0.5296"
      ]
     },
     "execution_count": 38,
     "metadata": {},
     "output_type": "execute_result"
    }
   ],
   "source": [
    "round(np.average(dices), 4)"
   ]
  },
  {
   "cell_type": "code",
   "execution_count": null,
   "metadata": {
    "scrolled": true
   },
   "outputs": [
    {
     "name": "stderr",
     "output_type": "stream",
     "text": [
      "28it [00:15,  1.53s/it]"
     ]
    }
   ],
   "source": [
    "dices = []\n",
    "for ind, image_info in tqdm(filenames.iterrows()):\n",
    "    image_tensor, mask_tensor, _ = get_inputs(datasets_path, image_info)    \n",
    "    prediction = model.forward(image_tensor)\n",
    "\n",
    "    dice_score = multi_class_dice(prediction, mask_tensor)\n",
    "    dices.append(dice_score)"
   ]
  },
  {
   "cell_type": "code",
   "execution_count": null,
   "metadata": {},
   "outputs": [],
   "source": [
    "round(np.average(dices), 4)"
   ]
  },
  {
   "cell_type": "code",
   "execution_count": 7,
   "metadata": {},
   "outputs": [],
   "source": [
    "def predict_class(a):\n",
    "    return np.argmax(a)"
   ]
  },
  {
   "cell_type": "code",
   "execution_count": 8,
   "metadata": {
    "scrolled": true
   },
   "outputs": [
    {
     "name": "stderr",
     "output_type": "stream",
     "text": [
      "153it [01:10,  2.55it/s]\n"
     ]
    }
   ],
   "source": [
    "confusion_matrix=np.zeros((2,2,2))\n",
    "for ind, image_info in tqdm(filenames.iterrows()):\n",
    "    image_tensor, mask_tensor, mask_array = get_inputs(datasets_path, image_info)\n",
    "    \n",
    "    prediction = model.forward(image_tensor)   \n",
    "    softmax_output = Softmax(dim=1)(prediction)\n",
    "    predicted_class_probs = softmax_output.squeeze().permute(1, 2, 0).detach().numpy()\n",
    "    classes = np.apply_along_axis(predict_class, 2, predicted_class_probs)\n",
    "    \n",
    "    confusion_matrix += \\\n",
    "        multilabel_confusion_matrix(mask_array.astype(np.uint8).flatten(), classes.flatten(), labels=[1, 2])"
   ]
  },
  {
   "cell_type": "code",
   "execution_count": 9,
   "metadata": {},
   "outputs": [
    {
     "data": {
      "text/plain": [
       "array([[[7425697.,   60126.],\n",
       "        [  71984.,  119121.]],\n",
       "\n",
       "       [[7582031.,   59587.],\n",
       "        [  23522.,   11788.]]])"
      ]
     },
     "execution_count": 9,
     "metadata": {},
     "output_type": "execute_result"
    }
   ],
   "source": [
    "confusion_matrix"
   ]
  },
  {
   "cell_type": "code",
   "execution_count": 10,
   "metadata": {},
   "outputs": [],
   "source": [
    "# tp = confusion_matrix[:,1,1].sum()\n",
    "# fp = confusion_matrix[:,0,1].sum()\n",
    "# fn = confusion_matrix[:,1,0].sum()\n",
    "tp = confusion_matrix[0,1,1]\n",
    "fp = confusion_matrix[0,0,1]\n",
    "fn = confusion_matrix[0,1,0]"
   ]
  },
  {
   "cell_type": "code",
   "execution_count": 11,
   "metadata": {},
   "outputs": [],
   "source": [
    "dice = 2 * tp / (2 * tp + fp + fn)"
   ]
  },
  {
   "cell_type": "code",
   "execution_count": 12,
   "metadata": {},
   "outputs": [
    {
     "data": {
      "text/plain": [
       "0.6432853069512248"
      ]
     },
     "execution_count": 12,
     "metadata": {},
     "output_type": "execute_result"
    }
   ],
   "source": [
    "dice"
   ]
  },
  {
   "cell_type": "code",
   "execution_count": 9,
   "metadata": {},
   "outputs": [],
   "source": [
    "markup = gp.read_file('../../test_data/Clearcuts_Kharkivska_190711/Clearcuts_Kharkivska_190711.geojson')"
   ]
  },
  {
   "cell_type": "code",
   "execution_count": 10,
   "metadata": {},
   "outputs": [
    {
     "data": {
      "text/html": [
       "<div>\n",
       "<style scoped>\n",
       "    .dataframe tbody tr th:only-of-type {\n",
       "        vertical-align: middle;\n",
       "    }\n",
       "\n",
       "    .dataframe tbody tr th {\n",
       "        vertical-align: top;\n",
       "    }\n",
       "\n",
       "    .dataframe thead th {\n",
       "        text-align: right;\n",
       "    }\n",
       "</style>\n",
       "<table border=\"1\" class=\"dataframe\">\n",
       "  <thead>\n",
       "    <tr style=\"text-align: right;\">\n",
       "      <th></th>\n",
       "      <th>forest_typ</th>\n",
       "      <th>type</th>\n",
       "      <th>state</th>\n",
       "      <th>img_date</th>\n",
       "      <th>scene</th>\n",
       "      <th>comment</th>\n",
       "      <th>geometry</th>\n",
       "    </tr>\n",
       "  </thead>\n",
       "  <tbody>\n",
       "    <tr>\n",
       "      <th>0</th>\n",
       "      <td>deciduous</td>\n",
       "      <td>clearcut</td>\n",
       "      <td>open</td>\n",
       "      <td>2016-01-03</td>\n",
       "      <td>S2A_OPER_MSI_L1C_TL_EPA__20160104T162841_A0027...</td>\n",
       "      <td>None</td>\n",
       "      <td>POLYGON ((35.74328968460002 50.33710194163541,...</td>\n",
       "    </tr>\n",
       "    <tr>\n",
       "      <th>1</th>\n",
       "      <td>deciduous</td>\n",
       "      <td>clearcut</td>\n",
       "      <td>open</td>\n",
       "      <td>2016-01-03</td>\n",
       "      <td>S2A_OPER_MSI_L1C_TL_EPA__20160104T162841_A0027...</td>\n",
       "      <td>None</td>\n",
       "      <td>POLYGON ((35.7520533435336 50.33881135966537, ...</td>\n",
       "    </tr>\n",
       "    <tr>\n",
       "      <th>2</th>\n",
       "      <td>deciduous</td>\n",
       "      <td>clearcut</td>\n",
       "      <td>overgrown</td>\n",
       "      <td>2016-01-03</td>\n",
       "      <td>S2A_OPER_MSI_L1C_TL_EPA__20160104T162841_A0027...</td>\n",
       "      <td>None</td>\n",
       "      <td>POLYGON ((35.72254993093128 50.23276873309143,...</td>\n",
       "    </tr>\n",
       "    <tr>\n",
       "      <th>3</th>\n",
       "      <td>deciduous</td>\n",
       "      <td>clearcut</td>\n",
       "      <td>open</td>\n",
       "      <td>2016-01-03</td>\n",
       "      <td>S2A_OPER_MSI_L1C_TL_EPA__20160104T162841_A0027...</td>\n",
       "      <td>None</td>\n",
       "      <td>POLYGON ((35.75472938363725 50.0164416489162, ...</td>\n",
       "    </tr>\n",
       "    <tr>\n",
       "      <th>4</th>\n",
       "      <td>deciduous</td>\n",
       "      <td>clearcut</td>\n",
       "      <td>overgrown</td>\n",
       "      <td>2016-01-03</td>\n",
       "      <td>S2A_OPER_MSI_L1C_TL_EPA__20160104T162841_A0027...</td>\n",
       "      <td>None</td>\n",
       "      <td>POLYGON ((35.73585751670677 49.84682180353652,...</td>\n",
       "    </tr>\n",
       "    <tr>\n",
       "      <th>5</th>\n",
       "      <td>deciduous</td>\n",
       "      <td>clearcut</td>\n",
       "      <td>overgrown</td>\n",
       "      <td>2016-01-03</td>\n",
       "      <td>S2A_OPER_MSI_L1C_TL_EPA__20160104T162841_A0027...</td>\n",
       "      <td>None</td>\n",
       "      <td>POLYGON ((35.73180246695141 49.84711915116796,...</td>\n",
       "    </tr>\n",
       "    <tr>\n",
       "      <th>6</th>\n",
       "      <td>deciduous</td>\n",
       "      <td>clearcut</td>\n",
       "      <td>open</td>\n",
       "      <td>2016-01-03</td>\n",
       "      <td>S2A_OPER_MSI_L1C_TL_EPA__20160104T162841_A0027...</td>\n",
       "      <td>None</td>\n",
       "      <td>POLYGON ((35.74714969827763 49.84309709736512,...</td>\n",
       "    </tr>\n",
       "    <tr>\n",
       "      <th>7</th>\n",
       "      <td>deciduous</td>\n",
       "      <td>clearcut</td>\n",
       "      <td>overgrown</td>\n",
       "      <td>2016-01-03</td>\n",
       "      <td>S2A_OPER_MSI_L1C_TL_EPA__20160104T162841_A0027...</td>\n",
       "      <td>None</td>\n",
       "      <td>POLYGON ((35.74714969827762 49.84309709736512,...</td>\n",
       "    </tr>\n",
       "    <tr>\n",
       "      <th>8</th>\n",
       "      <td>deciduous</td>\n",
       "      <td>clearcut</td>\n",
       "      <td>open</td>\n",
       "      <td>2016-01-03</td>\n",
       "      <td>S2A_OPER_MSI_L1C_TL_EPA__20160104T162841_A0027...</td>\n",
       "      <td>None</td>\n",
       "      <td>POLYGON ((35.75127564896252 49.84119220282199,...</td>\n",
       "    </tr>\n",
       "    <tr>\n",
       "      <th>9</th>\n",
       "      <td>deciduous</td>\n",
       "      <td>clearcut</td>\n",
       "      <td>open</td>\n",
       "      <td>2016-01-03</td>\n",
       "      <td>S2A_OPER_MSI_L1C_TL_EPA__20160104T162841_A0027...</td>\n",
       "      <td>None</td>\n",
       "      <td>POLYGON ((35.75658543031976 49.83879030229097,...</td>\n",
       "    </tr>\n",
       "    <tr>\n",
       "      <th>10</th>\n",
       "      <td>deciduous</td>\n",
       "      <td>clearcut</td>\n",
       "      <td>overgrown</td>\n",
       "      <td>2016-01-03</td>\n",
       "      <td>S2A_OPER_MSI_L1C_TL_EPA__20160104T162841_A0027...</td>\n",
       "      <td>None</td>\n",
       "      <td>POLYGON ((35.73951576296429 49.8285735965526, ...</td>\n",
       "    </tr>\n",
       "    <tr>\n",
       "      <th>11</th>\n",
       "      <td>deciduous</td>\n",
       "      <td>clearcut</td>\n",
       "      <td>open</td>\n",
       "      <td>2016-01-03</td>\n",
       "      <td>S2A_OPER_MSI_L1C_TL_EPA__20160104T162841_A0027...</td>\n",
       "      <td>None</td>\n",
       "      <td>POLYGON ((35.77529575592782 49.83214359983594,...</td>\n",
       "    </tr>\n",
       "    <tr>\n",
       "      <th>12</th>\n",
       "      <td>deciduous</td>\n",
       "      <td>clearcut</td>\n",
       "      <td>open</td>\n",
       "      <td>2016-01-03</td>\n",
       "      <td>S2A_OPER_MSI_L1C_TL_EPA__20160104T162841_A0027...</td>\n",
       "      <td>None</td>\n",
       "      <td>POLYGON ((35.7720026226011 49.93652641966658, ...</td>\n",
       "    </tr>\n",
       "    <tr>\n",
       "      <th>13</th>\n",
       "      <td>deciduous</td>\n",
       "      <td>clearcut</td>\n",
       "      <td>open</td>\n",
       "      <td>2016-01-03</td>\n",
       "      <td>S2A_OPER_MSI_L1C_TL_EPA__20160104T162841_A0027...</td>\n",
       "      <td>None</td>\n",
       "      <td>POLYGON ((35.76908964179632 50.00201085069536,...</td>\n",
       "    </tr>\n",
       "    <tr>\n",
       "      <th>14</th>\n",
       "      <td>deciduous</td>\n",
       "      <td>clearcut</td>\n",
       "      <td>open</td>\n",
       "      <td>2016-01-03</td>\n",
       "      <td>S2A_OPER_MSI_L1C_TL_EPA__20160104T162841_A0027...</td>\n",
       "      <td>None</td>\n",
       "      <td>POLYGON ((35.77240493166352 50.00199807638685,...</td>\n",
       "    </tr>\n",
       "    <tr>\n",
       "      <th>15</th>\n",
       "      <td>deciduous</td>\n",
       "      <td>clearcut</td>\n",
       "      <td>open</td>\n",
       "      <td>2016-01-03</td>\n",
       "      <td>S2A_OPER_MSI_L1C_TL_EPA__20160104T162841_A0027...</td>\n",
       "      <td>None</td>\n",
       "      <td>POLYGON ((35.78635737519553 49.99673987942732,...</td>\n",
       "    </tr>\n",
       "    <tr>\n",
       "      <th>16</th>\n",
       "      <td>deciduous</td>\n",
       "      <td>clearcut</td>\n",
       "      <td>open</td>\n",
       "      <td>2016-01-03</td>\n",
       "      <td>S2A_OPER_MSI_L1C_TL_EPA__20160104T162841_A0027...</td>\n",
       "      <td>None</td>\n",
       "      <td>POLYGON ((35.79226323463293 49.99539973199415,...</td>\n",
       "    </tr>\n",
       "    <tr>\n",
       "      <th>17</th>\n",
       "      <td>deciduous</td>\n",
       "      <td>clearcut</td>\n",
       "      <td>open</td>\n",
       "      <td>2016-01-03</td>\n",
       "      <td>S2A_OPER_MSI_L1C_TL_EPA__20160104T162841_A0027...</td>\n",
       "      <td>None</td>\n",
       "      <td>POLYGON ((35.79444760096084 50.00098321793627,...</td>\n",
       "    </tr>\n",
       "    <tr>\n",
       "      <th>18</th>\n",
       "      <td>deciduous</td>\n",
       "      <td>clearcut</td>\n",
       "      <td>open</td>\n",
       "      <td>2016-01-03</td>\n",
       "      <td>S2A_OPER_MSI_L1C_TL_EPA__20160104T162841_A0027...</td>\n",
       "      <td>None</td>\n",
       "      <td>POLYGON ((35.79508517219861 49.99537763334142,...</td>\n",
       "    </tr>\n",
       "    <tr>\n",
       "      <th>19</th>\n",
       "      <td>deciduous</td>\n",
       "      <td>clearcut</td>\n",
       "      <td>open</td>\n",
       "      <td>2016-01-03</td>\n",
       "      <td>S2A_OPER_MSI_L1C_TL_EPA__20160104T162841_A0027...</td>\n",
       "      <td>None</td>\n",
       "      <td>POLYGON ((35.79591919809538 49.99936214463607,...</td>\n",
       "    </tr>\n",
       "    <tr>\n",
       "      <th>20</th>\n",
       "      <td>deciduous</td>\n",
       "      <td>clearcut</td>\n",
       "      <td>open</td>\n",
       "      <td>2016-01-03</td>\n",
       "      <td>S2A_OPER_MSI_L1C_TL_EPA__20160104T162841_A0027...</td>\n",
       "      <td>None</td>\n",
       "      <td>POLYGON ((35.78251408825442 50.00063960430718,...</td>\n",
       "    </tr>\n",
       "    <tr>\n",
       "      <th>21</th>\n",
       "      <td>deciduous</td>\n",
       "      <td>clearcut</td>\n",
       "      <td>open</td>\n",
       "      <td>2016-01-03</td>\n",
       "      <td>S2A_OPER_MSI_L1C_TL_EPA__20160104T162841_A0027...</td>\n",
       "      <td>None</td>\n",
       "      <td>POLYGON ((35.7742496986527 50.0067184663466, 3...</td>\n",
       "    </tr>\n",
       "    <tr>\n",
       "      <th>22</th>\n",
       "      <td>deciduous</td>\n",
       "      <td>clearcut</td>\n",
       "      <td>open</td>\n",
       "      <td>2016-01-03</td>\n",
       "      <td>S2A_OPER_MSI_L1C_TL_EPA__20160104T162841_A0027...</td>\n",
       "      <td>None</td>\n",
       "      <td>POLYGON ((35.77998501986936 50.00410670025569,...</td>\n",
       "    </tr>\n",
       "    <tr>\n",
       "      <th>23</th>\n",
       "      <td>deciduous</td>\n",
       "      <td>clearcut</td>\n",
       "      <td>open</td>\n",
       "      <td>2016-01-03</td>\n",
       "      <td>S2A_OPER_MSI_L1C_TL_EPA__20160104T162841_A0027...</td>\n",
       "      <td>None</td>\n",
       "      <td>POLYGON ((35.77954094908517 50.0022986112996, ...</td>\n",
       "    </tr>\n",
       "    <tr>\n",
       "      <th>24</th>\n",
       "      <td>deciduous</td>\n",
       "      <td>clearcut</td>\n",
       "      <td>open</td>\n",
       "      <td>2016-01-03</td>\n",
       "      <td>S2A_OPER_MSI_L1C_TL_EPA__20160104T162841_A0027...</td>\n",
       "      <td>None</td>\n",
       "      <td>POLYGON ((35.78562271802581 50.00541683009203,...</td>\n",
       "    </tr>\n",
       "    <tr>\n",
       "      <th>25</th>\n",
       "      <td>deciduous</td>\n",
       "      <td>clearcut</td>\n",
       "      <td>open</td>\n",
       "      <td>2016-01-03</td>\n",
       "      <td>S2A_OPER_MSI_L1C_TL_EPA__20160104T162841_A0027...</td>\n",
       "      <td>None</td>\n",
       "      <td>POLYGON ((35.78544452572747 50.01175163999663,...</td>\n",
       "    </tr>\n",
       "    <tr>\n",
       "      <th>26</th>\n",
       "      <td>deciduous</td>\n",
       "      <td>clearcut</td>\n",
       "      <td>open</td>\n",
       "      <td>2016-01-03</td>\n",
       "      <td>S2A_OPER_MSI_L1C_TL_EPA__20160104T162841_A0027...</td>\n",
       "      <td>None</td>\n",
       "      <td>POLYGON ((35.77754135487672 50.00911934985976,...</td>\n",
       "    </tr>\n",
       "    <tr>\n",
       "      <th>27</th>\n",
       "      <td>deciduous</td>\n",
       "      <td>clearcut</td>\n",
       "      <td>open</td>\n",
       "      <td>2016-01-03</td>\n",
       "      <td>S2A_OPER_MSI_L1C_TL_EPA__20160104T162841_A0027...</td>\n",
       "      <td>None</td>\n",
       "      <td>POLYGON ((35.77435900425244 50.01053246659389,...</td>\n",
       "    </tr>\n",
       "    <tr>\n",
       "      <th>28</th>\n",
       "      <td>deciduous</td>\n",
       "      <td>clearcut</td>\n",
       "      <td>open</td>\n",
       "      <td>2016-01-03</td>\n",
       "      <td>S2A_OPER_MSI_L1C_TL_EPA__20160104T162841_A0027...</td>\n",
       "      <td>None</td>\n",
       "      <td>POLYGON ((35.7725531790617 50.01189160834953, ...</td>\n",
       "    </tr>\n",
       "    <tr>\n",
       "      <th>29</th>\n",
       "      <td>deciduous</td>\n",
       "      <td>clearcut</td>\n",
       "      <td>overgrown</td>\n",
       "      <td>2016-01-03</td>\n",
       "      <td>S2A_OPER_MSI_L1C_TL_EPA__20160104T162841_A0027...</td>\n",
       "      <td>None</td>\n",
       "      <td>POLYGON ((35.77737847073362 50.01437032509074,...</td>\n",
       "    </tr>\n",
       "    <tr>\n",
       "      <th>...</th>\n",
       "      <td>...</td>\n",
       "      <td>...</td>\n",
       "      <td>...</td>\n",
       "      <td>...</td>\n",
       "      <td>...</td>\n",
       "      <td>...</td>\n",
       "      <td>...</td>\n",
       "    </tr>\n",
       "    <tr>\n",
       "      <th>1718</th>\n",
       "      <td>coniferous</td>\n",
       "      <td>clearcut</td>\n",
       "      <td>open</td>\n",
       "      <td>2016-08-30</td>\n",
       "      <td>S2A_OPER_MSI_L1C_TL_SGS__20160830T122619_A0062...</td>\n",
       "      <td>None</td>\n",
       "      <td>POLYGON ((36.23935547752832 49.87050901068719,...</td>\n",
       "    </tr>\n",
       "    <tr>\n",
       "      <th>1719</th>\n",
       "      <td>coniferous</td>\n",
       "      <td>clearcut</td>\n",
       "      <td>damaged</td>\n",
       "      <td>2016-01-03</td>\n",
       "      <td>S2A_OPER_MSI_L1C_TL_EPA__20160104T162841_A0027...</td>\n",
       "      <td>карьер</td>\n",
       "      <td>POLYGON ((36.30297335690327 49.85343032189959,...</td>\n",
       "    </tr>\n",
       "    <tr>\n",
       "      <th>1720</th>\n",
       "      <td>coniferous</td>\n",
       "      <td>clearcut</td>\n",
       "      <td>open</td>\n",
       "      <td>2016-01-03</td>\n",
       "      <td>S2A_OPER_MSI_L1C_TL_EPA__20160104T162841_A0027...</td>\n",
       "      <td>None</td>\n",
       "      <td>POLYGON ((36.30570801112764 49.6911626470207, ...</td>\n",
       "    </tr>\n",
       "    <tr>\n",
       "      <th>1721</th>\n",
       "      <td>deciduous</td>\n",
       "      <td>clearcut</td>\n",
       "      <td>open</td>\n",
       "      <td>2016-01-03</td>\n",
       "      <td>S2A_OPER_MSI_L1C_TL_EPA__20160104T162841_A0027...</td>\n",
       "      <td>None</td>\n",
       "      <td>POLYGON ((36.32801884170586 50.18500267935465,...</td>\n",
       "    </tr>\n",
       "    <tr>\n",
       "      <th>1722</th>\n",
       "      <td>deciduous</td>\n",
       "      <td>clearcut</td>\n",
       "      <td>open</td>\n",
       "      <td>2019-05-22</td>\n",
       "      <td>S2A_OPER_MSI_L1C_TL_MTI__20160524T125003_A0047...</td>\n",
       "      <td>None</td>\n",
       "      <td>POLYGON ((36.34472332289221 50.18266659066756,...</td>\n",
       "    </tr>\n",
       "    <tr>\n",
       "      <th>1723</th>\n",
       "      <td>coniferous</td>\n",
       "      <td>clearcut</td>\n",
       "      <td>overgrown</td>\n",
       "      <td>2016-01-03</td>\n",
       "      <td>S2A_OPER_MSI_L1C_TL_EPA__20160104T162841_A0027...</td>\n",
       "      <td>None</td>\n",
       "      <td>POLYGON ((36.34024529073393 49.8297770391818, ...</td>\n",
       "    </tr>\n",
       "    <tr>\n",
       "      <th>1724</th>\n",
       "      <td>coniferous</td>\n",
       "      <td>clearcut</td>\n",
       "      <td>open</td>\n",
       "      <td>2016-01-03</td>\n",
       "      <td>S2A_OPER_MSI_L1C_TL_EPA__20160104T162841_A0027...</td>\n",
       "      <td>None</td>\n",
       "      <td>POLYGON ((36.34953814666045 49.82865018550918,...</td>\n",
       "    </tr>\n",
       "    <tr>\n",
       "      <th>1725</th>\n",
       "      <td>coniferous</td>\n",
       "      <td>clearcut</td>\n",
       "      <td>open</td>\n",
       "      <td>2016-01-03</td>\n",
       "      <td>S2A_OPER_MSI_L1C_TL_EPA__20160104T162841_A0027...</td>\n",
       "      <td>None</td>\n",
       "      <td>POLYGON ((36.38834150028496 49.63692213893655,...</td>\n",
       "    </tr>\n",
       "    <tr>\n",
       "      <th>1726</th>\n",
       "      <td>coniferous</td>\n",
       "      <td>clearcut</td>\n",
       "      <td>open</td>\n",
       "      <td>2016-01-03</td>\n",
       "      <td>S2A_OPER_MSI_L1C_TL_EPA__20160104T162841_A0027...</td>\n",
       "      <td>None</td>\n",
       "      <td>POLYGON ((36.39104620960916 49.63895185885517,...</td>\n",
       "    </tr>\n",
       "    <tr>\n",
       "      <th>1727</th>\n",
       "      <td>coniferous</td>\n",
       "      <td>clearcut</td>\n",
       "      <td>open</td>\n",
       "      <td>2019-02-12</td>\n",
       "      <td>S2A_OPER_MSI_L1C_TL_SGS__20160212T124123_A0033...</td>\n",
       "      <td>None</td>\n",
       "      <td>POLYGON ((36.38954981225597 50.10120300975456,...</td>\n",
       "    </tr>\n",
       "    <tr>\n",
       "      <th>1728</th>\n",
       "      <td>coniferous</td>\n",
       "      <td>clearcut</td>\n",
       "      <td>open</td>\n",
       "      <td>2016-07-31</td>\n",
       "      <td>S2A_OPER_MSI_L1C_TL_SGS__20160731T123122_A0057...</td>\n",
       "      <td>None</td>\n",
       "      <td>POLYGON ((36.46416668129959 49.55982112779023,...</td>\n",
       "    </tr>\n",
       "    <tr>\n",
       "      <th>1729</th>\n",
       "      <td>coniferous</td>\n",
       "      <td>clearcut</td>\n",
       "      <td>open</td>\n",
       "      <td>2016-01-03</td>\n",
       "      <td>S2A_OPER_MSI_L1C_TL_EPA__20160104T162841_A0027...</td>\n",
       "      <td>None</td>\n",
       "      <td>POLYGON ((36.47359776152984 49.55886817423681,...</td>\n",
       "    </tr>\n",
       "    <tr>\n",
       "      <th>1730</th>\n",
       "      <td>deciduous</td>\n",
       "      <td>clearcut</td>\n",
       "      <td>open</td>\n",
       "      <td>2016-07-31</td>\n",
       "      <td>S2A_OPER_MSI_L1C_TL_SGS__20160731T123122_A0057...</td>\n",
       "      <td>None</td>\n",
       "      <td>POLYGON ((36.47718660304123 49.75782123605756,...</td>\n",
       "    </tr>\n",
       "    <tr>\n",
       "      <th>1731</th>\n",
       "      <td>coniferous</td>\n",
       "      <td>clearcut</td>\n",
       "      <td>open</td>\n",
       "      <td>2016-08-30</td>\n",
       "      <td>S2A_OPER_MSI_L1C_TL_SGS__20160830T122619_A0062...</td>\n",
       "      <td>None</td>\n",
       "      <td>POLYGON ((36.55949707669458 49.74563383038664,...</td>\n",
       "    </tr>\n",
       "    <tr>\n",
       "      <th>1732</th>\n",
       "      <td>coniferous</td>\n",
       "      <td>clearcut</td>\n",
       "      <td>open</td>\n",
       "      <td>2016-06-21</td>\n",
       "      <td>S2A_OPER_MSI_L1C_TL_SGS__20160621T141023_A0052...</td>\n",
       "      <td>None</td>\n",
       "      <td>POLYGON ((36.5796956827842 49.74435056627578, ...</td>\n",
       "    </tr>\n",
       "    <tr>\n",
       "      <th>1733</th>\n",
       "      <td>coniferous</td>\n",
       "      <td>clearcut</td>\n",
       "      <td>open</td>\n",
       "      <td>2016-07-31</td>\n",
       "      <td>S2A_OPER_MSI_L1C_TL_SGS__20160731T123122_A0057...</td>\n",
       "      <td>None</td>\n",
       "      <td>POLYGON ((36.57898879830477 49.74499151236039,...</td>\n",
       "    </tr>\n",
       "    <tr>\n",
       "      <th>1734</th>\n",
       "      <td>coniferous</td>\n",
       "      <td>clearcut</td>\n",
       "      <td>open</td>\n",
       "      <td>2019-08-20</td>\n",
       "      <td>S2A_OPER_MSI_L1C_TL_SGS__20160820T122822_A0060...</td>\n",
       "      <td>None</td>\n",
       "      <td>POLYGON ((36.57756896690572 49.74621940447928,...</td>\n",
       "    </tr>\n",
       "    <tr>\n",
       "      <th>1735</th>\n",
       "      <td>coniferous</td>\n",
       "      <td>clearcut</td>\n",
       "      <td>open</td>\n",
       "      <td>2016-10-26</td>\n",
       "      <td>S2A_OPER_MSI_L1C_TL_MPS__20161026T121849_A0070...</td>\n",
       "      <td>None</td>\n",
       "      <td>POLYGON ((36.71466862755877 49.48158639321529,...</td>\n",
       "    </tr>\n",
       "    <tr>\n",
       "      <th>1736</th>\n",
       "      <td>coniferous</td>\n",
       "      <td>clearcut</td>\n",
       "      <td>open</td>\n",
       "      <td>2016-12-05</td>\n",
       "      <td>S2A_OPER_MSI_L1C_TL_MPS__20161205T121702_A0075...</td>\n",
       "      <td>None</td>\n",
       "      <td>POLYGON ((36.71409927160929 49.48123498103674,...</td>\n",
       "    </tr>\n",
       "    <tr>\n",
       "      <th>1737</th>\n",
       "      <td>coniferous</td>\n",
       "      <td>clearcut</td>\n",
       "      <td>open</td>\n",
       "      <td>2016-12-05</td>\n",
       "      <td>S2A_OPER_MSI_L1C_TL_MPS__20161205T121702_A0075...</td>\n",
       "      <td>None</td>\n",
       "      <td>POLYGON ((36.72161477014247 49.48003969836837,...</td>\n",
       "    </tr>\n",
       "    <tr>\n",
       "      <th>1738</th>\n",
       "      <td>coniferous</td>\n",
       "      <td>clearcut</td>\n",
       "      <td>open</td>\n",
       "      <td>2016-05-02</td>\n",
       "      <td>S2A_OPER_MSI_L1C_TL_MPS__20160502T123357_A0044...</td>\n",
       "      <td>None</td>\n",
       "      <td>POLYGON ((36.8020992628105 49.44444522887237, ...</td>\n",
       "    </tr>\n",
       "    <tr>\n",
       "      <th>1739</th>\n",
       "      <td>coniferous</td>\n",
       "      <td>clearcut</td>\n",
       "      <td>open</td>\n",
       "      <td>2016-06-21</td>\n",
       "      <td>S2A_OPER_MSI_L1C_TL_SGS__20160621T141023_A0052...</td>\n",
       "      <td>None</td>\n",
       "      <td>POLYGON ((36.90232359718782 49.841924910032, 3...</td>\n",
       "    </tr>\n",
       "    <tr>\n",
       "      <th>1740</th>\n",
       "      <td>deciduous</td>\n",
       "      <td>clearcut</td>\n",
       "      <td>overgrown</td>\n",
       "      <td>2016-01-03</td>\n",
       "      <td>S2A_OPER_MSI_L1C_TL_EPA__20160104T162841_A0027...</td>\n",
       "      <td>None</td>\n",
       "      <td>POLYGON ((36.81120959144744 49.97177549133185,...</td>\n",
       "    </tr>\n",
       "    <tr>\n",
       "      <th>1741</th>\n",
       "      <td>coniferous</td>\n",
       "      <td>clearcut</td>\n",
       "      <td>open</td>\n",
       "      <td>2016-12-05</td>\n",
       "      <td>S2A_OPER_MSI_L1C_TL_MPS__20161205T121702_A0075...</td>\n",
       "      <td>None</td>\n",
       "      <td>POLYGON ((36.7390928720849 50.00564665347449, ...</td>\n",
       "    </tr>\n",
       "    <tr>\n",
       "      <th>1742</th>\n",
       "      <td>deciduous</td>\n",
       "      <td>clearcut</td>\n",
       "      <td>open</td>\n",
       "      <td>2016-01-03</td>\n",
       "      <td>S2A_OPER_MSI_L1C_TL_EPA__20160104T162841_A0027...</td>\n",
       "      <td>None</td>\n",
       "      <td>POLYGON ((36.74316667206774 50.07976151657616,...</td>\n",
       "    </tr>\n",
       "    <tr>\n",
       "      <th>1743</th>\n",
       "      <td>deciduous</td>\n",
       "      <td>clearcut</td>\n",
       "      <td>open</td>\n",
       "      <td>2016-12-05</td>\n",
       "      <td>S2A_OPER_MSI_L1C_TL_MPS__20161205T121702_A0075...</td>\n",
       "      <td>None</td>\n",
       "      <td>POLYGON ((36.81626144904953 50.22254556098611,...</td>\n",
       "    </tr>\n",
       "    <tr>\n",
       "      <th>1744</th>\n",
       "      <td>deciduous</td>\n",
       "      <td>clearcut</td>\n",
       "      <td>open</td>\n",
       "      <td>2016-01-03</td>\n",
       "      <td>S2A_OPER_MSI_L1C_TL_EPA__20160104T162841_A0027...</td>\n",
       "      <td>None</td>\n",
       "      <td>POLYGON ((36.69578462379207 50.24504214063688,...</td>\n",
       "    </tr>\n",
       "    <tr>\n",
       "      <th>1745</th>\n",
       "      <td>deciduous</td>\n",
       "      <td>clearcut</td>\n",
       "      <td>open</td>\n",
       "      <td>2016-01-03</td>\n",
       "      <td>S2A_OPER_MSI_L1C_TL_EPA__20160104T162841_A0027...</td>\n",
       "      <td>None</td>\n",
       "      <td>POLYGON ((36.81240591035169 50.26482854024135,...</td>\n",
       "    </tr>\n",
       "    <tr>\n",
       "      <th>1746</th>\n",
       "      <td>coniferous</td>\n",
       "      <td>clearcut</td>\n",
       "      <td>open</td>\n",
       "      <td>2016-10-26</td>\n",
       "      <td>S2A_OPER_MSI_L1C_TL_MPS__20161026T121849_A0070...</td>\n",
       "      <td>None</td>\n",
       "      <td>POLYGON ((36.87744865060593 50.27880343714106,...</td>\n",
       "    </tr>\n",
       "    <tr>\n",
       "      <th>1747</th>\n",
       "      <td>coniferous</td>\n",
       "      <td>clearcut</td>\n",
       "      <td>open</td>\n",
       "      <td>2019-10-26</td>\n",
       "      <td>S2A_OPER_MSI_L1C_TL_MPS__20161026T121849_A0070...</td>\n",
       "      <td>None</td>\n",
       "      <td>POLYGON ((36.88312139638097 50.26588755952934,...</td>\n",
       "    </tr>\n",
       "  </tbody>\n",
       "</table>\n",
       "<p>1748 rows × 7 columns</p>\n",
       "</div>"
      ],
      "text/plain": [
       "      forest_typ      type      state    img_date  \\\n",
       "0      deciduous  clearcut       open  2016-01-03   \n",
       "1      deciduous  clearcut       open  2016-01-03   \n",
       "2      deciduous  clearcut  overgrown  2016-01-03   \n",
       "3      deciduous  clearcut       open  2016-01-03   \n",
       "4      deciduous  clearcut  overgrown  2016-01-03   \n",
       "5      deciduous  clearcut  overgrown  2016-01-03   \n",
       "6      deciduous  clearcut       open  2016-01-03   \n",
       "7      deciduous  clearcut  overgrown  2016-01-03   \n",
       "8      deciduous  clearcut       open  2016-01-03   \n",
       "9      deciduous  clearcut       open  2016-01-03   \n",
       "10     deciduous  clearcut  overgrown  2016-01-03   \n",
       "11     deciduous  clearcut       open  2016-01-03   \n",
       "12     deciduous  clearcut       open  2016-01-03   \n",
       "13     deciduous  clearcut       open  2016-01-03   \n",
       "14     deciduous  clearcut       open  2016-01-03   \n",
       "15     deciduous  clearcut       open  2016-01-03   \n",
       "16     deciduous  clearcut       open  2016-01-03   \n",
       "17     deciduous  clearcut       open  2016-01-03   \n",
       "18     deciduous  clearcut       open  2016-01-03   \n",
       "19     deciduous  clearcut       open  2016-01-03   \n",
       "20     deciduous  clearcut       open  2016-01-03   \n",
       "21     deciduous  clearcut       open  2016-01-03   \n",
       "22     deciduous  clearcut       open  2016-01-03   \n",
       "23     deciduous  clearcut       open  2016-01-03   \n",
       "24     deciduous  clearcut       open  2016-01-03   \n",
       "25     deciduous  clearcut       open  2016-01-03   \n",
       "26     deciduous  clearcut       open  2016-01-03   \n",
       "27     deciduous  clearcut       open  2016-01-03   \n",
       "28     deciduous  clearcut       open  2016-01-03   \n",
       "29     deciduous  clearcut  overgrown  2016-01-03   \n",
       "...          ...       ...        ...         ...   \n",
       "1718  coniferous  clearcut       open  2016-08-30   \n",
       "1719  coniferous  clearcut    damaged  2016-01-03   \n",
       "1720  coniferous  clearcut       open  2016-01-03   \n",
       "1721   deciduous  clearcut       open  2016-01-03   \n",
       "1722   deciduous  clearcut       open  2019-05-22   \n",
       "1723  coniferous  clearcut  overgrown  2016-01-03   \n",
       "1724  coniferous  clearcut       open  2016-01-03   \n",
       "1725  coniferous  clearcut       open  2016-01-03   \n",
       "1726  coniferous  clearcut       open  2016-01-03   \n",
       "1727  coniferous  clearcut       open  2019-02-12   \n",
       "1728  coniferous  clearcut       open  2016-07-31   \n",
       "1729  coniferous  clearcut       open  2016-01-03   \n",
       "1730   deciduous  clearcut       open  2016-07-31   \n",
       "1731  coniferous  clearcut       open  2016-08-30   \n",
       "1732  coniferous  clearcut       open  2016-06-21   \n",
       "1733  coniferous  clearcut       open  2016-07-31   \n",
       "1734  coniferous  clearcut       open  2019-08-20   \n",
       "1735  coniferous  clearcut       open  2016-10-26   \n",
       "1736  coniferous  clearcut       open  2016-12-05   \n",
       "1737  coniferous  clearcut       open  2016-12-05   \n",
       "1738  coniferous  clearcut       open  2016-05-02   \n",
       "1739  coniferous  clearcut       open  2016-06-21   \n",
       "1740   deciduous  clearcut  overgrown  2016-01-03   \n",
       "1741  coniferous  clearcut       open  2016-12-05   \n",
       "1742   deciduous  clearcut       open  2016-01-03   \n",
       "1743   deciduous  clearcut       open  2016-12-05   \n",
       "1744   deciduous  clearcut       open  2016-01-03   \n",
       "1745   deciduous  clearcut       open  2016-01-03   \n",
       "1746  coniferous  clearcut       open  2016-10-26   \n",
       "1747  coniferous  clearcut       open  2019-10-26   \n",
       "\n",
       "                                                  scene comment  \\\n",
       "0     S2A_OPER_MSI_L1C_TL_EPA__20160104T162841_A0027...    None   \n",
       "1     S2A_OPER_MSI_L1C_TL_EPA__20160104T162841_A0027...    None   \n",
       "2     S2A_OPER_MSI_L1C_TL_EPA__20160104T162841_A0027...    None   \n",
       "3     S2A_OPER_MSI_L1C_TL_EPA__20160104T162841_A0027...    None   \n",
       "4     S2A_OPER_MSI_L1C_TL_EPA__20160104T162841_A0027...    None   \n",
       "5     S2A_OPER_MSI_L1C_TL_EPA__20160104T162841_A0027...    None   \n",
       "6     S2A_OPER_MSI_L1C_TL_EPA__20160104T162841_A0027...    None   \n",
       "7     S2A_OPER_MSI_L1C_TL_EPA__20160104T162841_A0027...    None   \n",
       "8     S2A_OPER_MSI_L1C_TL_EPA__20160104T162841_A0027...    None   \n",
       "9     S2A_OPER_MSI_L1C_TL_EPA__20160104T162841_A0027...    None   \n",
       "10    S2A_OPER_MSI_L1C_TL_EPA__20160104T162841_A0027...    None   \n",
       "11    S2A_OPER_MSI_L1C_TL_EPA__20160104T162841_A0027...    None   \n",
       "12    S2A_OPER_MSI_L1C_TL_EPA__20160104T162841_A0027...    None   \n",
       "13    S2A_OPER_MSI_L1C_TL_EPA__20160104T162841_A0027...    None   \n",
       "14    S2A_OPER_MSI_L1C_TL_EPA__20160104T162841_A0027...    None   \n",
       "15    S2A_OPER_MSI_L1C_TL_EPA__20160104T162841_A0027...    None   \n",
       "16    S2A_OPER_MSI_L1C_TL_EPA__20160104T162841_A0027...    None   \n",
       "17    S2A_OPER_MSI_L1C_TL_EPA__20160104T162841_A0027...    None   \n",
       "18    S2A_OPER_MSI_L1C_TL_EPA__20160104T162841_A0027...    None   \n",
       "19    S2A_OPER_MSI_L1C_TL_EPA__20160104T162841_A0027...    None   \n",
       "20    S2A_OPER_MSI_L1C_TL_EPA__20160104T162841_A0027...    None   \n",
       "21    S2A_OPER_MSI_L1C_TL_EPA__20160104T162841_A0027...    None   \n",
       "22    S2A_OPER_MSI_L1C_TL_EPA__20160104T162841_A0027...    None   \n",
       "23    S2A_OPER_MSI_L1C_TL_EPA__20160104T162841_A0027...    None   \n",
       "24    S2A_OPER_MSI_L1C_TL_EPA__20160104T162841_A0027...    None   \n",
       "25    S2A_OPER_MSI_L1C_TL_EPA__20160104T162841_A0027...    None   \n",
       "26    S2A_OPER_MSI_L1C_TL_EPA__20160104T162841_A0027...    None   \n",
       "27    S2A_OPER_MSI_L1C_TL_EPA__20160104T162841_A0027...    None   \n",
       "28    S2A_OPER_MSI_L1C_TL_EPA__20160104T162841_A0027...    None   \n",
       "29    S2A_OPER_MSI_L1C_TL_EPA__20160104T162841_A0027...    None   \n",
       "...                                                 ...     ...   \n",
       "1718  S2A_OPER_MSI_L1C_TL_SGS__20160830T122619_A0062...    None   \n",
       "1719  S2A_OPER_MSI_L1C_TL_EPA__20160104T162841_A0027...  карьер   \n",
       "1720  S2A_OPER_MSI_L1C_TL_EPA__20160104T162841_A0027...    None   \n",
       "1721  S2A_OPER_MSI_L1C_TL_EPA__20160104T162841_A0027...    None   \n",
       "1722  S2A_OPER_MSI_L1C_TL_MTI__20160524T125003_A0047...    None   \n",
       "1723  S2A_OPER_MSI_L1C_TL_EPA__20160104T162841_A0027...    None   \n",
       "1724  S2A_OPER_MSI_L1C_TL_EPA__20160104T162841_A0027...    None   \n",
       "1725  S2A_OPER_MSI_L1C_TL_EPA__20160104T162841_A0027...    None   \n",
       "1726  S2A_OPER_MSI_L1C_TL_EPA__20160104T162841_A0027...    None   \n",
       "1727  S2A_OPER_MSI_L1C_TL_SGS__20160212T124123_A0033...    None   \n",
       "1728  S2A_OPER_MSI_L1C_TL_SGS__20160731T123122_A0057...    None   \n",
       "1729  S2A_OPER_MSI_L1C_TL_EPA__20160104T162841_A0027...    None   \n",
       "1730  S2A_OPER_MSI_L1C_TL_SGS__20160731T123122_A0057...    None   \n",
       "1731  S2A_OPER_MSI_L1C_TL_SGS__20160830T122619_A0062...    None   \n",
       "1732  S2A_OPER_MSI_L1C_TL_SGS__20160621T141023_A0052...    None   \n",
       "1733  S2A_OPER_MSI_L1C_TL_SGS__20160731T123122_A0057...    None   \n",
       "1734  S2A_OPER_MSI_L1C_TL_SGS__20160820T122822_A0060...    None   \n",
       "1735  S2A_OPER_MSI_L1C_TL_MPS__20161026T121849_A0070...    None   \n",
       "1736  S2A_OPER_MSI_L1C_TL_MPS__20161205T121702_A0075...    None   \n",
       "1737  S2A_OPER_MSI_L1C_TL_MPS__20161205T121702_A0075...    None   \n",
       "1738  S2A_OPER_MSI_L1C_TL_MPS__20160502T123357_A0044...    None   \n",
       "1739  S2A_OPER_MSI_L1C_TL_SGS__20160621T141023_A0052...    None   \n",
       "1740  S2A_OPER_MSI_L1C_TL_EPA__20160104T162841_A0027...    None   \n",
       "1741  S2A_OPER_MSI_L1C_TL_MPS__20161205T121702_A0075...    None   \n",
       "1742  S2A_OPER_MSI_L1C_TL_EPA__20160104T162841_A0027...    None   \n",
       "1743  S2A_OPER_MSI_L1C_TL_MPS__20161205T121702_A0075...    None   \n",
       "1744  S2A_OPER_MSI_L1C_TL_EPA__20160104T162841_A0027...    None   \n",
       "1745  S2A_OPER_MSI_L1C_TL_EPA__20160104T162841_A0027...    None   \n",
       "1746  S2A_OPER_MSI_L1C_TL_MPS__20161026T121849_A0070...    None   \n",
       "1747  S2A_OPER_MSI_L1C_TL_MPS__20161026T121849_A0070...    None   \n",
       "\n",
       "                                               geometry  \n",
       "0     POLYGON ((35.74328968460002 50.33710194163541,...  \n",
       "1     POLYGON ((35.7520533435336 50.33881135966537, ...  \n",
       "2     POLYGON ((35.72254993093128 50.23276873309143,...  \n",
       "3     POLYGON ((35.75472938363725 50.0164416489162, ...  \n",
       "4     POLYGON ((35.73585751670677 49.84682180353652,...  \n",
       "5     POLYGON ((35.73180246695141 49.84711915116796,...  \n",
       "6     POLYGON ((35.74714969827763 49.84309709736512,...  \n",
       "7     POLYGON ((35.74714969827762 49.84309709736512,...  \n",
       "8     POLYGON ((35.75127564896252 49.84119220282199,...  \n",
       "9     POLYGON ((35.75658543031976 49.83879030229097,...  \n",
       "10    POLYGON ((35.73951576296429 49.8285735965526, ...  \n",
       "11    POLYGON ((35.77529575592782 49.83214359983594,...  \n",
       "12    POLYGON ((35.7720026226011 49.93652641966658, ...  \n",
       "13    POLYGON ((35.76908964179632 50.00201085069536,...  \n",
       "14    POLYGON ((35.77240493166352 50.00199807638685,...  \n",
       "15    POLYGON ((35.78635737519553 49.99673987942732,...  \n",
       "16    POLYGON ((35.79226323463293 49.99539973199415,...  \n",
       "17    POLYGON ((35.79444760096084 50.00098321793627,...  \n",
       "18    POLYGON ((35.79508517219861 49.99537763334142,...  \n",
       "19    POLYGON ((35.79591919809538 49.99936214463607,...  \n",
       "20    POLYGON ((35.78251408825442 50.00063960430718,...  \n",
       "21    POLYGON ((35.7742496986527 50.0067184663466, 3...  \n",
       "22    POLYGON ((35.77998501986936 50.00410670025569,...  \n",
       "23    POLYGON ((35.77954094908517 50.0022986112996, ...  \n",
       "24    POLYGON ((35.78562271802581 50.00541683009203,...  \n",
       "25    POLYGON ((35.78544452572747 50.01175163999663,...  \n",
       "26    POLYGON ((35.77754135487672 50.00911934985976,...  \n",
       "27    POLYGON ((35.77435900425244 50.01053246659389,...  \n",
       "28    POLYGON ((35.7725531790617 50.01189160834953, ...  \n",
       "29    POLYGON ((35.77737847073362 50.01437032509074,...  \n",
       "...                                                 ...  \n",
       "1718  POLYGON ((36.23935547752832 49.87050901068719,...  \n",
       "1719  POLYGON ((36.30297335690327 49.85343032189959,...  \n",
       "1720  POLYGON ((36.30570801112764 49.6911626470207, ...  \n",
       "1721  POLYGON ((36.32801884170586 50.18500267935465,...  \n",
       "1722  POLYGON ((36.34472332289221 50.18266659066756,...  \n",
       "1723  POLYGON ((36.34024529073393 49.8297770391818, ...  \n",
       "1724  POLYGON ((36.34953814666045 49.82865018550918,...  \n",
       "1725  POLYGON ((36.38834150028496 49.63692213893655,...  \n",
       "1726  POLYGON ((36.39104620960916 49.63895185885517,...  \n",
       "1727  POLYGON ((36.38954981225597 50.10120300975456,...  \n",
       "1728  POLYGON ((36.46416668129959 49.55982112779023,...  \n",
       "1729  POLYGON ((36.47359776152984 49.55886817423681,...  \n",
       "1730  POLYGON ((36.47718660304123 49.75782123605756,...  \n",
       "1731  POLYGON ((36.55949707669458 49.74563383038664,...  \n",
       "1732  POLYGON ((36.5796956827842 49.74435056627578, ...  \n",
       "1733  POLYGON ((36.57898879830477 49.74499151236039,...  \n",
       "1734  POLYGON ((36.57756896690572 49.74621940447928,...  \n",
       "1735  POLYGON ((36.71466862755877 49.48158639321529,...  \n",
       "1736  POLYGON ((36.71409927160929 49.48123498103674,...  \n",
       "1737  POLYGON ((36.72161477014247 49.48003969836837,...  \n",
       "1738  POLYGON ((36.8020992628105 49.44444522887237, ...  \n",
       "1739  POLYGON ((36.90232359718782 49.841924910032, 3...  \n",
       "1740  POLYGON ((36.81120959144744 49.97177549133185,...  \n",
       "1741  POLYGON ((36.7390928720849 50.00564665347449, ...  \n",
       "1742  POLYGON ((36.74316667206774 50.07976151657616,...  \n",
       "1743  POLYGON ((36.81626144904953 50.22254556098611,...  \n",
       "1744  POLYGON ((36.69578462379207 50.24504214063688,...  \n",
       "1745  POLYGON ((36.81240591035169 50.26482854024135,...  \n",
       "1746  POLYGON ((36.87744865060593 50.27880343714106,...  \n",
       "1747  POLYGON ((36.88312139638097 50.26588755952934,...  \n",
       "\n",
       "[1748 rows x 7 columns]"
      ]
     },
     "execution_count": 10,
     "metadata": {},
     "output_type": "execute_result"
    }
   ],
   "source": [
    "markup"
   ]
  },
  {
   "cell_type": "code",
   "execution_count": 11,
   "metadata": {},
   "outputs": [
    {
     "data": {
      "text/plain": [
       "0.005978682031662935"
      ]
     },
     "execution_count": 11,
     "metadata": {},
     "output_type": "execute_result"
    }
   ],
   "source": [
    "markup[markup['state'] == 'open'].area.sum()"
   ]
  },
  {
   "cell_type": "code",
   "execution_count": 12,
   "metadata": {},
   "outputs": [
    {
     "data": {
      "text/plain": [
       "0.0019924738774187677"
      ]
     },
     "execution_count": 12,
     "metadata": {},
     "output_type": "execute_result"
    }
   ],
   "source": [
    "markup[markup['state'] == 'overgrown'].area.sum()"
   ]
  },
  {
   "cell_type": "code",
   "execution_count": 26,
   "metadata": {},
   "outputs": [
    {
     "name": "stderr",
     "output_type": "stream",
     "text": [
      "609it [04:19,  2.38it/s]\n"
     ]
    }
   ],
   "source": [
    "train_df = pd.read_csv(train_df_path)\n",
    "\n",
    "confusion_matrix=np.zeros((2,2,2))\n",
    "for ind, image_info in tqdm(train_df.iterrows()):\n",
    "    image_tensor, mask_tensor, mask_array = get_inputs(datasets_path, image_info)\n",
    "    \n",
    "    prediction = model.forward(image_tensor)   \n",
    "    softmax_output = Softmax(dim=1)(prediction)\n",
    "    predicted_class_probs = softmax_output.squeeze().permute(1, 2, 0).detach().numpy()\n",
    "    classes = np.apply_along_axis(predict_class, 2, predicted_class_probs)\n",
    "    \n",
    "    confusion_matrix += \\\n",
    "        multilabel_confusion_matrix(mask_array.astype(np.uint8).flatten(), classes.flatten(), labels=[1, 2])"
   ]
  },
  {
   "cell_type": "code",
   "execution_count": 101,
   "metadata": {},
   "outputs": [
    {
     "data": {
      "text/plain": [
       "array([[[2.9776927e+07, 1.4154200e+05],\n",
       "        [3.9588200e+05, 2.4283300e+05]],\n",
       "\n",
       "       [[3.0211475e+07, 6.7980000e+03],\n",
       "        [3.3645300e+05, 2.4580000e+03]]])"
      ]
     },
     "execution_count": 101,
     "metadata": {},
     "output_type": "execute_result"
    }
   ],
   "source": [
    "confusion_matrix"
   ]
  },
  {
   "cell_type": "code",
   "execution_count": 13,
   "metadata": {},
   "outputs": [],
   "source": [
    "image_tensor, mask_tensor, mask_array = get_inputs(datasets_path, filenames.iloc[0])"
   ]
  },
  {
   "cell_type": "code",
   "execution_count": 14,
   "metadata": {},
   "outputs": [],
   "source": [
    "prediction = model.forward(image_tensor)"
   ]
  },
  {
   "cell_type": "code",
   "execution_count": 15,
   "metadata": {},
   "outputs": [
    {
     "data": {
      "text/plain": [
       "3"
      ]
     },
     "execution_count": 15,
     "metadata": {},
     "output_type": "execute_result"
    }
   ],
   "source": [
    "prediction.shape[1]"
   ]
  },
  {
   "cell_type": "code",
   "execution_count": 16,
   "metadata": {},
   "outputs": [
    {
     "data": {
      "text/plain": [
       "torch.Size([1, 3, 224, 224])"
      ]
     },
     "execution_count": 16,
     "metadata": {},
     "output_type": "execute_result"
    }
   ],
   "source": [
    "prediction.shape"
   ]
  },
  {
   "cell_type": "code",
   "execution_count": 17,
   "metadata": {},
   "outputs": [],
   "source": [
    "num_classes = prediction.shape[1]"
   ]
  },
  {
   "cell_type": "code",
   "execution_count": 18,
   "metadata": {},
   "outputs": [],
   "source": [
    "true_1_hot = torch.eye(num_classes)[mask_tensor]"
   ]
  },
  {
   "cell_type": "code",
   "execution_count": 19,
   "metadata": {},
   "outputs": [
    {
     "data": {
      "text/plain": [
       "torch.Size([1, 224, 224, 3])"
      ]
     },
     "execution_count": 19,
     "metadata": {},
     "output_type": "execute_result"
    }
   ],
   "source": [
    "true_1_hot.shape"
   ]
  },
  {
   "cell_type": "code",
   "execution_count": 20,
   "metadata": {},
   "outputs": [],
   "source": [
    "true_1_hot = true_1_hot.permute(0, 3, 1, 2).float()"
   ]
  },
  {
   "cell_type": "code",
   "execution_count": 21,
   "metadata": {},
   "outputs": [
    {
     "data": {
      "text/plain": [
       "torch.Size([1, 3, 224, 224])"
      ]
     },
     "execution_count": 21,
     "metadata": {},
     "output_type": "execute_result"
    }
   ],
   "source": [
    "true_1_hot.shape"
   ]
  },
  {
   "cell_type": "code",
   "execution_count": 22,
   "metadata": {},
   "outputs": [
    {
     "data": {
      "text/plain": [
       "tensor([[[[1., 1., 1.,  ..., 1., 1., 1.],\n",
       "          [1., 1., 1.,  ..., 1., 1., 1.],\n",
       "          [1., 1., 1.,  ..., 1., 1., 1.],\n",
       "          ...,\n",
       "          [1., 1., 1.,  ..., 1., 1., 1.],\n",
       "          [1., 1., 1.,  ..., 1., 1., 1.],\n",
       "          [1., 1., 1.,  ..., 1., 1., 1.]],\n",
       "\n",
       "         [[0., 0., 0.,  ..., 0., 0., 0.],\n",
       "          [0., 0., 0.,  ..., 0., 0., 0.],\n",
       "          [0., 0., 0.,  ..., 0., 0., 0.],\n",
       "          ...,\n",
       "          [0., 0., 0.,  ..., 0., 0., 0.],\n",
       "          [0., 0., 0.,  ..., 0., 0., 0.],\n",
       "          [0., 0., 0.,  ..., 0., 0., 0.]],\n",
       "\n",
       "         [[0., 0., 0.,  ..., 0., 0., 0.],\n",
       "          [0., 0., 0.,  ..., 0., 0., 0.],\n",
       "          [0., 0., 0.,  ..., 0., 0., 0.],\n",
       "          ...,\n",
       "          [0., 0., 0.,  ..., 0., 0., 0.],\n",
       "          [0., 0., 0.,  ..., 0., 0., 0.],\n",
       "          [0., 0., 0.,  ..., 0., 0., 0.]]]])"
      ]
     },
     "execution_count": 22,
     "metadata": {},
     "output_type": "execute_result"
    }
   ],
   "source": [
    "true_1_hot"
   ]
  },
  {
   "cell_type": "code",
   "execution_count": 23,
   "metadata": {},
   "outputs": [],
   "source": [
    "dims = (0,) + tuple(range(2, prediction.ndimension()))"
   ]
  },
  {
   "cell_type": "code",
   "execution_count": 24,
   "metadata": {},
   "outputs": [
    {
     "data": {
      "text/plain": [
       "(0, 2, 3)"
      ]
     },
     "execution_count": 24,
     "metadata": {},
     "output_type": "execute_result"
    }
   ],
   "source": [
    "dims"
   ]
  },
  {
   "cell_type": "code",
   "execution_count": 25,
   "metadata": {},
   "outputs": [],
   "source": [
    "probas = Softmax(dim=1)(prediction)\n",
    "true_1_hot = true_1_hot.type(prediction.type())"
   ]
  },
  {
   "cell_type": "code",
   "execution_count": 26,
   "metadata": {},
   "outputs": [
    {
     "data": {
      "text/plain": [
       "torch.Size([1, 3, 224, 224])"
      ]
     },
     "execution_count": 26,
     "metadata": {},
     "output_type": "execute_result"
    }
   ],
   "source": [
    "probas.shape"
   ]
  },
  {
   "cell_type": "code",
   "execution_count": 27,
   "metadata": {},
   "outputs": [],
   "source": [
    "intersection = torch.sum(probas * true_1_hot, dims)\n",
    "cardinality = torch.sum(probas + true_1_hot, dims)"
   ]
  },
  {
   "cell_type": "code",
   "execution_count": 28,
   "metadata": {},
   "outputs": [
    {
     "data": {
      "text/plain": [
       "tensor(3677.2241, grad_fn=<SelectBackward>)"
      ]
     },
     "execution_count": 28,
     "metadata": {},
     "output_type": "execute_result"
    }
   ],
   "source": [
    "intersection[1]"
   ]
  },
  {
   "cell_type": "code",
   "execution_count": 29,
   "metadata": {},
   "outputs": [
    {
     "data": {
      "text/plain": [
       "tensor(9402.7998, grad_fn=<SelectBackward>)"
      ]
     },
     "execution_count": 29,
     "metadata": {},
     "output_type": "execute_result"
    }
   ],
   "source": [
    "cardinality[1]"
   ]
  },
  {
   "cell_type": "code",
   "execution_count": 30,
   "metadata": {},
   "outputs": [],
   "source": [
    "eps=1e-7"
   ]
  },
  {
   "cell_type": "code",
   "execution_count": 31,
   "metadata": {},
   "outputs": [],
   "source": [
    "dice_score = (2. * intersection / (cardinality + eps)).mean().item()"
   ]
  },
  {
   "cell_type": "code",
   "execution_count": 32,
   "metadata": {},
   "outputs": [
    {
     "data": {
      "text/plain": [
       "0.5864408016204834"
      ]
     },
     "execution_count": 32,
     "metadata": {},
     "output_type": "execute_result"
    }
   ],
   "source": [
    "dice_score"
   ]
  },
  {
   "cell_type": "code",
   "execution_count": 33,
   "metadata": {},
   "outputs": [
    {
     "data": {
      "text/plain": [
       "tensor(0.5864, grad_fn=<MeanBackward0>)"
      ]
     },
     "execution_count": 33,
     "metadata": {},
     "output_type": "execute_result"
    }
   ],
   "source": [
    "(2. * intersection / (cardinality + eps)).mean()"
   ]
  },
  {
   "cell_type": "code",
   "execution_count": 34,
   "metadata": {},
   "outputs": [
    {
     "data": {
      "text/plain": [
       "0.5864408016204834"
      ]
     },
     "execution_count": 34,
     "metadata": {},
     "output_type": "execute_result"
    }
   ],
   "source": [
    "multi_class_dice(prediction, mask_tensor, eps=1e-7)"
   ]
  },
  {
   "cell_type": "code",
   "execution_count": 35,
   "metadata": {},
   "outputs": [],
   "source": [
    "open_dice = (2. * intersection[1] / (cardinality[1] + eps)).mean()\n",
    "overgrown_dice = (2. * intersection[2] / (cardinality[2] + eps)).mean()\n",
    "a = (open_dice + overgrown_dice) / 2"
   ]
  },
  {
   "cell_type": "code",
   "execution_count": 36,
   "metadata": {},
   "outputs": [
    {
     "data": {
      "text/plain": [
       "tensor(0.3911, grad_fn=<DivBackward0>)"
      ]
     },
     "execution_count": 36,
     "metadata": {},
     "output_type": "execute_result"
    }
   ],
   "source": [
    "a"
   ]
  },
  {
   "cell_type": "code",
   "execution_count": null,
   "metadata": {},
   "outputs": [],
   "source": []
  },
  {
   "cell_type": "code",
   "execution_count": null,
   "metadata": {},
   "outputs": [],
   "source": []
  }
 ],
 "metadata": {
  "kernelspec": {
   "display_name": "Python 3",
   "language": "python",
   "name": "python3"
  },
  "language_info": {
   "codemirror_mode": {
    "name": "ipython",
    "version": 3
   },
   "file_extension": ".py",
   "mimetype": "text/x-python",
   "name": "python",
   "nbconvert_exporter": "python",
   "pygments_lexer": "ipython3",
   "version": "3.6.8"
  }
 },
 "nbformat": 4,
 "nbformat_minor": 2
}
